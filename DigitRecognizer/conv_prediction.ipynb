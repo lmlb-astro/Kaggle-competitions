{
 "cells": [
  {
   "cell_type": "code",
   "execution_count": 1,
   "id": "b327b499-b6ab-4e9b-85ff-2e494fefef89",
   "metadata": {},
   "outputs": [],
   "source": [
    "import numpy as np\n",
    "import pandas as pd\n",
    "\n",
    "import conv_model as conv\n",
    "import tensorflow as tf"
   ]
  },
  {
   "cell_type": "code",
   "execution_count": 2,
   "id": "38c6b893-bbd9-4845-be3e-62d3d121258b",
   "metadata": {},
   "outputs": [],
   "source": [
    "#### User input ####\n",
    "\n",
    "## path of the train and test data\n",
    "train_data = \"../data/digit-recognizer/train.csv\"\n",
    "test_data = \"../data/digit-recognizer/test.csv\"\n",
    "\n",
    "## path of the test predictions\n",
    "test_pred_path = \"../data/digit-recognizer/test_preds1.csv\""
   ]
  },
  {
   "cell_type": "code",
   "execution_count": 3,
   "id": "1c584910-2380-4008-9f04-fd522f666555",
   "metadata": {},
   "outputs": [
    {
     "name": "stdout",
     "output_type": "stream",
     "text": [
      "<class 'pandas.core.frame.DataFrame'>\n",
      "RangeIndex: 42000 entries, 0 to 41999\n",
      "Columns: 785 entries, label to pixel783\n",
      "dtypes: int64(785)\n",
      "memory usage: 251.5 MB\n",
      "<class 'pandas.core.frame.DataFrame'>\n",
      "RangeIndex: 28000 entries, 0 to 27999\n",
      "Columns: 784 entries, pixel0 to pixel783\n",
      "dtypes: int64(784)\n",
      "memory usage: 167.5 MB\n"
     ]
    }
   ],
   "source": [
    "## read data into Dataframe\n",
    "df_train = pd.read_csv(train_data)\n",
    "df_train.info()\n",
    "\n",
    "df_test = pd.read_csv(test_data)\n",
    "df_test.info()"
   ]
  },
  {
   "cell_type": "code",
   "execution_count": 4,
   "id": "1eb2bd87-207b-457a-a5f3-698dc4fe38e6",
   "metadata": {},
   "outputs": [],
   "source": [
    "## get the first 20000 rows of the data\n",
    "#df_train = df_train.iloc[:20000]\n",
    "#print(len(df_train.columns))"
   ]
  },
  {
   "cell_type": "code",
   "execution_count": 5,
   "id": "0188eb2f-c4ae-43ce-a7e8-a33eaeb8c6c6",
   "metadata": {},
   "outputs": [],
   "source": [
    "## function to create input images\n",
    "def create_input_images(df):\n",
    "    im_arr = []\n",
    "    for row in range(0, len(df.index)):\n",
    "        ## create the image frame\n",
    "        image = np.zeros((28, 28, 1))\n",
    "\n",
    "        if(row%1000 == 0):\n",
    "            print(row)\n",
    "        \n",
    "        ## loop over the pixel values\n",
    "        for col in range(1, len(df.columns)):\n",
    "            image[(col-1)//28][(col-1)%28] = np.array([df.iloc[row, col]])\n",
    "    \n",
    "        im_arr.append(image)\n",
    "\n",
    "    return np.array(im_arr)"
   ]
  },
  {
   "cell_type": "code",
   "execution_count": 6,
   "id": "162a4759-33c0-4f96-a3b2-0d924357b5f2",
   "metadata": {},
   "outputs": [
    {
     "name": "stdout",
     "output_type": "stream",
     "text": [
      "0\n",
      "1000\n",
      "2000\n",
      "3000\n",
      "4000\n",
      "5000\n",
      "6000\n",
      "7000\n",
      "8000\n",
      "9000\n",
      "10000\n",
      "11000\n",
      "12000\n",
      "13000\n",
      "14000\n",
      "15000\n",
      "16000\n",
      "17000\n",
      "18000\n",
      "19000\n",
      "20000\n",
      "21000\n",
      "22000\n",
      "23000\n",
      "24000\n",
      "25000\n",
      "26000\n",
      "27000\n",
      "28000\n",
      "29000\n",
      "30000\n",
      "31000\n",
      "32000\n",
      "33000\n",
      "34000\n",
      "35000\n",
      "36000\n",
      "37000\n",
      "38000\n",
      "39000\n",
      "40000\n",
      "41000\n",
      "0\n",
      "1000\n",
      "2000\n",
      "3000\n",
      "4000\n",
      "5000\n",
      "6000\n",
      "7000\n",
      "8000\n",
      "9000\n",
      "10000\n",
      "11000\n",
      "12000\n",
      "13000\n",
      "14000\n",
      "15000\n",
      "16000\n",
      "17000\n",
      "18000\n",
      "19000\n",
      "20000\n",
      "21000\n",
      "22000\n",
      "23000\n",
      "24000\n",
      "25000\n",
      "26000\n",
      "27000\n"
     ]
    }
   ],
   "source": [
    "## create the arrays of input images\n",
    "im_arr = create_input_images(df_train)\n",
    "im_arr_test = create_input_images(df_test)"
   ]
  },
  {
   "cell_type": "code",
   "execution_count": 7,
   "id": "82309d09-e29e-4174-b3a8-f98dbb700308",
   "metadata": {},
   "outputs": [
    {
     "name": "stdout",
     "output_type": "stream",
     "text": [
      "(None, 784)\n"
     ]
    }
   ],
   "source": [
    "conv1 = conv.ConvModel()\n",
    "model1 = conv1.get_model()"
   ]
  },
  {
   "cell_type": "code",
   "execution_count": 8,
   "id": "77c8cdb8-f57c-405e-bc6c-4261fb93233d",
   "metadata": {},
   "outputs": [],
   "source": [
    "from tensorflow.keras.losses import CategoricalCrossentropy"
   ]
  },
  {
   "cell_type": "code",
   "execution_count": 9,
   "id": "59fa845c-0623-4384-a19d-595cde0fd54f",
   "metadata": {},
   "outputs": [],
   "source": [
    "## compile the model\n",
    "model1.compile(optimizer = 'adam', loss = CategoricalCrossentropy(), metrics = [\"accuracy\"])\n",
    "\n",
    "## create training input and one_hot encode\n",
    "Y = df_train[\"label\"].to_numpy()\n",
    "Y_oh = tf.one_hot(Y, 10)"
   ]
  },
  {
   "cell_type": "code",
   "execution_count": 10,
   "id": "126246c6-0b1f-48ca-9ee7-b83a02279b81",
   "metadata": {},
   "outputs": [
    {
     "name": "stdout",
     "output_type": "stream",
     "text": [
      "Epoch 1/6\n"
     ]
    },
    {
     "name": "stderr",
     "output_type": "stream",
     "text": [
      "2024-04-03 15:46:40.452028: W tensorflow/tsl/platform/profile_utils/cpu_utils.cc:128] Failed to get CPU frequency: 0 Hz\n"
     ]
    },
    {
     "name": "stdout",
     "output_type": "stream",
     "text": [
      "1313/1313 [==============================] - 12s 9ms/step - loss: 0.2904 - accuracy: 0.9097\n",
      "Epoch 2/6\n",
      "1313/1313 [==============================] - 12s 9ms/step - loss: 0.1102 - accuracy: 0.9654\n",
      "Epoch 3/6\n",
      "1313/1313 [==============================] - 12s 9ms/step - loss: 0.0847 - accuracy: 0.9732\n",
      "Epoch 4/6\n",
      "1313/1313 [==============================] - 12s 9ms/step - loss: 0.0687 - accuracy: 0.9788\n",
      "Epoch 5/6\n",
      "1313/1313 [==============================] - 12s 9ms/step - loss: 0.0589 - accuracy: 0.9819\n",
      "Epoch 6/6\n",
      "1313/1313 [==============================] - 12s 9ms/step - loss: 0.0512 - accuracy: 0.9841\n"
     ]
    },
    {
     "data": {
      "text/plain": [
       "<keras.callbacks.History at 0x15ba2a260>"
      ]
     },
     "execution_count": 10,
     "metadata": {},
     "output_type": "execute_result"
    }
   ],
   "source": [
    "## fit the model\n",
    "model1.fit(im_arr, Y_oh, batch_size = 32, epochs = 6)"
   ]
  },
  {
   "cell_type": "code",
   "execution_count": 11,
   "id": "7013e3b0-35bc-4be8-88de-892ddb5af9f8",
   "metadata": {},
   "outputs": [
    {
     "name": "stdout",
     "output_type": "stream",
     "text": [
      "875/875 [==============================] - 3s 3ms/step\n"
     ]
    }
   ],
   "source": [
    "## predict for the test data\n",
    "preds = model1.predict(im_arr_test)"
   ]
  },
  {
   "cell_type": "code",
   "execution_count": 19,
   "id": "8b907a53-7a19-4ddb-a4b4-87a915243c80",
   "metadata": {},
   "outputs": [],
   "source": [
    "## add test predictions to the test dataframe\n",
    "#print(preds.shape)\n",
    "#print(len(np.argmax(preds, axis = 1)))\n",
    "#print(len(np.arange(1, len(df_test.index)+1)))\n",
    "#print(df_test.columns)\n",
    "\n",
    "df_test[\"Label\"] = np.argmax(preds, axis = 1)\n",
    "df_test[\"ImageId\"] = np.arange(1, len(df_test.index)+1)\n",
    "\n",
    "## write results to csv file\n",
    "to_write = [\"ImageId\", \"Label\"]\n",
    "df_test.to_csv(test_pred_path, columns = to_write, index = False)"
   ]
  },
  {
   "cell_type": "code",
   "execution_count": null,
   "id": "69560835-cbaf-4312-a673-3a9bb2ea9a25",
   "metadata": {},
   "outputs": [],
   "source": []
  }
 ],
 "metadata": {
  "kernelspec": {
   "display_name": "Python 3 (ipykernel)",
   "language": "python",
   "name": "python3"
  },
  "language_info": {
   "codemirror_mode": {
    "name": "ipython",
    "version": 3
   },
   "file_extension": ".py",
   "mimetype": "text/x-python",
   "name": "python",
   "nbconvert_exporter": "python",
   "pygments_lexer": "ipython3",
   "version": "3.10.14"
  }
 },
 "nbformat": 4,
 "nbformat_minor": 5
}
