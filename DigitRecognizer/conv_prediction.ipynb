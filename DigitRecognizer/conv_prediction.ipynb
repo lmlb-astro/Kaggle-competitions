{
 "cells": [
  {
   "cell_type": "code",
   "execution_count": 1,
   "id": "b327b499-b6ab-4e9b-85ff-2e494fefef89",
   "metadata": {},
   "outputs": [],
   "source": [
    "import numpy as np\n",
    "import pandas as pd\n",
    "\n",
    "import conv_model as conv\n",
    "import tensorflow as tf"
   ]
  },
  {
   "cell_type": "code",
   "execution_count": 2,
   "id": "38c6b893-bbd9-4845-be3e-62d3d121258b",
   "metadata": {},
   "outputs": [],
   "source": [
    "#### User input ####\n",
    "\n",
    "## path of the train and test data\n",
    "train_data = \"../data/digit-recognizer/train.csv\"\n",
    "test_data = \"../data/digit-recognizer/test.csv\""
   ]
  },
  {
   "cell_type": "code",
   "execution_count": 3,
   "id": "1c584910-2380-4008-9f04-fd522f666555",
   "metadata": {},
   "outputs": [
    {
     "name": "stdout",
     "output_type": "stream",
     "text": [
      "<class 'pandas.core.frame.DataFrame'>\n",
      "RangeIndex: 42000 entries, 0 to 41999\n",
      "Columns: 785 entries, label to pixel783\n",
      "dtypes: int64(785)\n",
      "memory usage: 251.5 MB\n"
     ]
    }
   ],
   "source": [
    "## read data into Dataframe\n",
    "df_train = pd.read_csv(train_data)\n",
    "df_train.info()"
   ]
  },
  {
   "cell_type": "code",
   "execution_count": 4,
   "id": "b6113f1a-9268-4c83-b9ea-8602b0b34424",
   "metadata": {},
   "outputs": [
    {
     "data": {
      "text/plain": [
       "Index(['label', 'pixel0', 'pixel1', 'pixel2', 'pixel3', 'pixel4', 'pixel5',\n",
       "       'pixel6', 'pixel7', 'pixel8',\n",
       "       ...\n",
       "       'pixel774', 'pixel775', 'pixel776', 'pixel777', 'pixel778', 'pixel779',\n",
       "       'pixel780', 'pixel781', 'pixel782', 'pixel783'],\n",
       "      dtype='object', length=785)"
      ]
     },
     "execution_count": 4,
     "metadata": {},
     "output_type": "execute_result"
    }
   ],
   "source": [
    "df_train.columns"
   ]
  },
  {
   "cell_type": "code",
   "execution_count": 5,
   "id": "1eb2bd87-207b-457a-a5f3-698dc4fe38e6",
   "metadata": {},
   "outputs": [
    {
     "name": "stdout",
     "output_type": "stream",
     "text": [
      "785\n"
     ]
    }
   ],
   "source": [
    "## get the first 400 rows of the data\n",
    "df_train = df_train.iloc[:400]\n",
    "print(len(df_train.columns))"
   ]
  },
  {
   "cell_type": "code",
   "execution_count": 6,
   "id": "0188eb2f-c4ae-43ce-a7e8-a33eaeb8c6c6",
   "metadata": {},
   "outputs": [
    {
     "name": "stdout",
     "output_type": "stream",
     "text": [
      "(400, 28, 28, 1)\n"
     ]
    }
   ],
   "source": [
    "## create input images\n",
    "im_arr = []\n",
    "for row in range(0, len(df_train.index)):\n",
    "    ## create the image frame\n",
    "    image = np.zeros((28, 28, 1))\n",
    "    \n",
    "    ## loop over the pixel values\n",
    "    for col in range(1, len(df_train.columns)):\n",
    "        #if(row == 1 and col == 1):\n",
    "        #    print([df_train.iloc[row, col]])\n",
    "        image[(col-1)//28][(col-1)%28] = np.array([df_train.iloc[row, col]])\n",
    "    \n",
    "    im_arr.append(image)\n",
    "\n",
    "im_arr = np.array(im_arr)\n",
    "print(im_arr.shape)"
   ]
  },
  {
   "cell_type": "code",
   "execution_count": 7,
   "id": "82309d09-e29e-4174-b3a8-f98dbb700308",
   "metadata": {},
   "outputs": [
    {
     "name": "stdout",
     "output_type": "stream",
     "text": [
      "(None, 784)\n"
     ]
    }
   ],
   "source": [
    "conv1 = conv.ConvModel()\n",
    "model1 = conv1.get_model()"
   ]
  },
  {
   "cell_type": "code",
   "execution_count": 8,
   "id": "77c8cdb8-f57c-405e-bc6c-4261fb93233d",
   "metadata": {},
   "outputs": [],
   "source": [
    "from tensorflow.keras.losses import CategoricalCrossentropy"
   ]
  },
  {
   "cell_type": "code",
   "execution_count": 9,
   "id": "59fa845c-0623-4384-a19d-595cde0fd54f",
   "metadata": {},
   "outputs": [
    {
     "name": "stdout",
     "output_type": "stream",
     "text": [
      "(400, 28, 28, 1)\n",
      "(400, 10)\n"
     ]
    }
   ],
   "source": [
    "## compile the model\n",
    "model1.compile(optimizer = 'adam', loss = CategoricalCrossentropy(), metrics = [\"accuracy\"])\n",
    "\n",
    "## create training input\n",
    "Y = df_train[\"label\"].to_numpy()\n",
    "Y_oh = tf.one_hot(Y, 10)\n",
    "print(im_arr.shape)\n",
    "print(Y_oh.shape)"
   ]
  },
  {
   "cell_type": "code",
   "execution_count": 10,
   "id": "126246c6-0b1f-48ca-9ee7-b83a02279b81",
   "metadata": {},
   "outputs": [
    {
     "name": "stdout",
     "output_type": "stream",
     "text": [
      "Epoch 1/10\n"
     ]
    },
    {
     "name": "stderr",
     "output_type": "stream",
     "text": [
      "2024-04-03 15:06:58.996599: W tensorflow/tsl/platform/profile_utils/cpu_utils.cc:128] Failed to get CPU frequency: 0 Hz\n"
     ]
    },
    {
     "name": "stdout",
     "output_type": "stream",
     "text": [
      "13/13 [==============================] - 1s 8ms/step - loss: 3.2054 - accuracy: 0.1750\n",
      "Epoch 2/10\n",
      "13/13 [==============================] - 0s 7ms/step - loss: 1.5156 - accuracy: 0.4925\n",
      "Epoch 3/10\n",
      "13/13 [==============================] - 0s 7ms/step - loss: 0.9928 - accuracy: 0.6800\n",
      "Epoch 4/10\n",
      "13/13 [==============================] - 0s 6ms/step - loss: 0.5855 - accuracy: 0.8025\n",
      "Epoch 5/10\n",
      "13/13 [==============================] - 0s 7ms/step - loss: 0.3414 - accuracy: 0.8975\n",
      "Epoch 6/10\n",
      "13/13 [==============================] - 0s 7ms/step - loss: 0.2063 - accuracy: 0.9375\n",
      "Epoch 7/10\n",
      "13/13 [==============================] - 0s 7ms/step - loss: 0.1735 - accuracy: 0.9400\n",
      "Epoch 8/10\n",
      "13/13 [==============================] - 0s 7ms/step - loss: 0.1273 - accuracy: 0.9600\n",
      "Epoch 9/10\n",
      "13/13 [==============================] - 0s 8ms/step - loss: 0.0838 - accuracy: 0.9750\n",
      "Epoch 10/10\n",
      "13/13 [==============================] - 0s 8ms/step - loss: 0.0411 - accuracy: 0.9900\n"
     ]
    },
    {
     "data": {
      "text/plain": [
       "<keras.callbacks.History at 0x159354970>"
      ]
     },
     "execution_count": 10,
     "metadata": {},
     "output_type": "execute_result"
    }
   ],
   "source": [
    "## fit the model\n",
    "model1.fit(im_arr, Y_oh, batch_size=32, epochs = 10)"
   ]
  },
  {
   "cell_type": "code",
   "execution_count": null,
   "id": "7013e3b0-35bc-4be8-88de-892ddb5af9f8",
   "metadata": {},
   "outputs": [],
   "source": []
  }
 ],
 "metadata": {
  "kernelspec": {
   "display_name": "Python 3 (ipykernel)",
   "language": "python",
   "name": "python3"
  },
  "language_info": {
   "codemirror_mode": {
    "name": "ipython",
    "version": 3
   },
   "file_extension": ".py",
   "mimetype": "text/x-python",
   "name": "python",
   "nbconvert_exporter": "python",
   "pygments_lexer": "ipython3",
   "version": "3.10.14"
  }
 },
 "nbformat": 4,
 "nbformat_minor": 5
}
