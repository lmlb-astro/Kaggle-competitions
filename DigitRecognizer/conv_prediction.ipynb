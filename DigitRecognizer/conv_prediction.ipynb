{
 "cells": [
  {
   "cell_type": "code",
   "execution_count": 1,
   "id": "b327b499-b6ab-4e9b-85ff-2e494fefef89",
   "metadata": {},
   "outputs": [],
   "source": [
    "import numpy as np\n",
    "import pandas as pd\n",
    "\n",
    "import conv_model as conv\n",
    "import batch_hist as hist\n",
    "import tensorflow as tf\n",
    "\n",
    "import matplotlib.pyplot as plt\n",
    "\n",
    "from scipy.ndimage import gaussian_filter\n",
    "from scipy.ndimage import rotate\n",
    "from scipy.ndimage import shift"
   ]
  },
  {
   "cell_type": "code",
   "execution_count": 2,
   "id": "38c6b893-bbd9-4845-be3e-62d3d121258b",
   "metadata": {},
   "outputs": [],
   "source": [
    "#### User input ####\n",
    "\n",
    "## path of the train and test data\n",
    "train_data = \"../data/digit-recognizer/train.csv\"\n",
    "test_data = \"../data/digit-recognizer/test.csv\""
   ]
  },
  {
   "cell_type": "code",
   "execution_count": 3,
   "id": "1c584910-2380-4008-9f04-fd522f666555",
   "metadata": {},
   "outputs": [
    {
     "name": "stdout",
     "output_type": "stream",
     "text": [
      "<class 'pandas.core.frame.DataFrame'>\n",
      "RangeIndex: 42000 entries, 0 to 41999\n",
      "Columns: 785 entries, label to pixel783\n",
      "dtypes: int64(785)\n",
      "memory usage: 251.5 MB\n",
      "<class 'pandas.core.frame.DataFrame'>\n",
      "RangeIndex: 28000 entries, 0 to 27999\n",
      "Columns: 784 entries, pixel0 to pixel783\n",
      "dtypes: int64(784)\n",
      "memory usage: 167.5 MB\n"
     ]
    }
   ],
   "source": [
    "## read data into Dataframe\n",
    "df_train = pd.read_csv(train_data)\n",
    "df_train.info()\n",
    "\n",
    "df_test = pd.read_csv(test_data)\n",
    "df_test.info()"
   ]
  },
  {
   "cell_type": "code",
   "execution_count": 4,
   "id": "0188eb2f-c4ae-43ce-a7e8-a33eaeb8c6c6",
   "metadata": {},
   "outputs": [],
   "source": [
    "## function to create input images\n",
    "def create_input_images(df, start = 1):\n",
    "    im_arr = []\n",
    "    for row in range(0, len(df.index)):\n",
    "        ## get the image values\n",
    "        im_flat = np.array(df.iloc[row, start:])\n",
    "        \n",
    "        ## create the image frame\n",
    "        image = np.reshape(im_flat, (28, 28, 1))\n",
    "        \n",
    "        ## Store the normalized version of the image\n",
    "        im_arr.append(image/255.)\n",
    "\n",
    "    return np.array(im_arr, dtype = np.float32)\n",
    "\n",
    "## add a rotation to the dataset\n",
    "def augment_images(ims, labels, num_rot = 3, num_sm = 2):\n",
    "    ## initiate a random number generator\n",
    "    rng = np.random.default_rng(666)\n",
    "    \n",
    "    ## create a storage array + classification\n",
    "    stor_arr, tags = [], []\n",
    "    \n",
    "    ## loop over the images\n",
    "    for i, img in enumerate(ims):\n",
    "        stor_arr.append(img)\n",
    "        tags.append(Y[i])\n",
    "        \n",
    "        ## get the rotation angles and perform the rotations\n",
    "        angles = rng.normal(loc = 0., scale = 15., size = num_rot)\n",
    "        for a in angles:\n",
    "            rot_im = rotate(img, angle = a, reshape = False)\n",
    "            rot_im[rot_im < 0.] = 0.\n",
    "            rot_im[rot_im > 1.] = 1.\n",
    "            stor_arr.append(rot_im)\n",
    "            tags.append(Y[i])\n",
    "            \n",
    "        ## perform the smoothing and rotation\n",
    "        angles = rng.normal(loc = 0., scale = 15., size = num_sm)\n",
    "        sm_vals = rng.normal(loc = 1., scale = 0.08, size = num_sm)\n",
    "        for a, sm in zip(angles, sm_vals):\n",
    "            rot_im = rotate(img, angle = a, reshape = False)\n",
    "            rot_im[rot_im < 0.] = 0.\n",
    "            rot_im[rot_im > 1.] = 1.\n",
    "            sm_im = gaussian_filter(rot_im, sigma = (sm, sm, 1.))\n",
    "            stor_arr.append(sm_im)\n",
    "            tags.append(Y[i])\n",
    "    \n",
    "    return np.array(stor_arr), np.array(tags)\n",
    "    "
   ]
  },
  {
   "cell_type": "code",
   "execution_count": 5,
   "id": "162a4759-33c0-4f96-a3b2-0d924357b5f2",
   "metadata": {},
   "outputs": [
    {
     "name": "stdout",
     "output_type": "stream",
     "text": [
      "(42000,)\n",
      "(294000, 28, 28, 1)\n",
      "(294000,)\n"
     ]
    },
    {
     "data": {
      "text/plain": [
       "(294000, 28, 28, 1)"
      ]
     },
     "execution_count": 5,
     "metadata": {},
     "output_type": "execute_result"
    }
   ],
   "source": [
    "## create the arrays of input images\n",
    "im_arr = create_input_images(df_train)\n",
    "im_arr_test = create_input_images(df_test, start = 0)\n",
    "\n",
    "## create training input labels\n",
    "Y = df_train[\"label\"].to_numpy()\n",
    "print(Y.shape)\n",
    "\n",
    "## Augment the training dataset\n",
    "im_arr, Y = augment_images(im_arr, Y, num_rot = 3, num_sm = 3)\n",
    "print(im_arr.shape)\n",
    "print(Y.shape)\n",
    "\n",
    "## perform one_hot encoding\n",
    "Y_oh = tf.one_hot(Y, 10)\n",
    "im_arr.shape"
   ]
  },
  {
   "cell_type": "code",
   "execution_count": 6,
   "id": "77c8cdb8-f57c-405e-bc6c-4261fb93233d",
   "metadata": {},
   "outputs": [],
   "source": [
    "from tensorflow.keras.losses import CategoricalCrossentropy\n",
    "\n",
    "#### User input ####\n",
    "learn_rate = 2.0e-3\n",
    "epochs = 3\n",
    "batch_size = 64\n",
    "num_batches = int(im_arr.shape[0]/batch_size)"
   ]
  },
  {
   "cell_type": "code",
   "execution_count": 7,
   "id": "82309d09-e29e-4174-b3a8-f98dbb700308",
   "metadata": {},
   "outputs": [],
   "source": [
    "## create the model: simple convolutional layers\n",
    "#model1 = conv.ConvModel(conv_layer = 'Conv2D', drop_rate = 0.25, kernel_size = (3, 3), filters = [48, 32])\n",
    "\n",
    "## create the model: residual model layers\n",
    "model1 = conv.ResModel(drop_rate = 0.25, kernel_size = (3, 3), filters = [24, 48])\n",
    "\n",
    "## create the model: large residual model with 2 x 6 layers\n",
    "#model1 = conv.ResModelLarge(drop_rate = 0.25, kernel_size = (3, 3))\n",
    "\n",
    "##instantiate the batch callbacks\n",
    "batch_history = hist.BatchHistory()"
   ]
  },
  {
   "cell_type": "code",
   "execution_count": 8,
   "id": "7fc70bd8-afd1-452a-ae65-5863a91185c9",
   "metadata": {},
   "outputs": [],
   "source": [
    "## initialize the adam optimizer with polynomial decay\n",
    "#poly_decay_rate = tf.keras.optimizers.schedules.PolynomialDecay(learn_rate, epochs) ## with polynomial decay\n",
    "#Adam_opt = tf.keras.optimizers.Adam(learning_rate = poly_decay_rate) \n",
    "\n",
    "Adam_opt = tf.keras.optimizers.Adam(learning_rate = learn_rate) ## without polynomial decay\n",
    "\n",
    "## compile the model\n",
    "model1.compile(optimizer = Adam_opt, loss = CategoricalCrossentropy(), metrics = ['accuracy'])"
   ]
  },
  {
   "cell_type": "code",
   "execution_count": 9,
   "id": "126246c6-0b1f-48ca-9ee7-b83a02279b81",
   "metadata": {},
   "outputs": [
    {
     "name": "stdout",
     "output_type": "stream",
     "text": [
      "Epoch 1/3\n",
      "\u001b[1m4594/4594\u001b[0m \u001b[32m━━━━━━━━━━━━━━━━━━━━\u001b[0m\u001b[37m\u001b[0m \u001b[1m179s\u001b[0m 39ms/step - accuracy: 0.9575 - loss: 0.1386\n",
      "Epoch 2/3\n",
      "\u001b[1m4594/4594\u001b[0m \u001b[32m━━━━━━━━━━━━━━━━━━━━\u001b[0m\u001b[37m\u001b[0m \u001b[1m178s\u001b[0m 39ms/step - accuracy: 0.9918 - loss: 0.0261\n",
      "Epoch 3/3\n",
      "\u001b[1m4594/4594\u001b[0m \u001b[32m━━━━━━━━━━━━━━━━━━━━\u001b[0m\u001b[37m\u001b[0m \u001b[1m180s\u001b[0m 39ms/step - accuracy: 0.9945 - loss: 0.0173\n"
     ]
    },
    {
     "data": {
      "text/plain": [
       "<keras.src.callbacks.history.History at 0x2918abd00>"
      ]
     },
     "execution_count": 9,
     "metadata": {},
     "output_type": "execute_result"
    }
   ],
   "source": [
    "## fit the model (currently just testing the design, no final run yet)\n",
    "model1.fit(im_arr, Y_oh, batch_size = batch_size, shuffle = True, epochs = epochs, callbacks = [batch_history])"
   ]
  },
  {
   "cell_type": "code",
   "execution_count": 10,
   "id": "47268004-9ff9-45b4-aae8-8c7484e3676d",
   "metadata": {},
   "outputs": [
    {
     "data": {
      "image/png": "[encoded data removed]",
      "text/plain": [
       "<Figure size 640x480 with 1 Axes>"
      ]
     },
     "metadata": {},
     "output_type": "display_data"
    }
   ],
   "source": [
    "## plot the accuracy evolution during training\n",
    "import matplotlib.pyplot as plt\n",
    "plt.plot(batch_history.accuracies)\n",
    "plt.title('model accuracy')\n",
    "\n",
    "plt.xscale('log')\n",
    "plt.yscale('log')\n",
    "\n",
    "plt.ylabel('accuracy')\n",
    "plt.xlabel('batch')\n",
    "\n",
    "plt.show()"
   ]
  },
  {
   "cell_type": "code",
   "execution_count": 11,
   "id": "684478bd-7579-4c98-a087-7c10cb233f63",
   "metadata": {},
   "outputs": [],
   "source": [
    "## print the model summary\n",
    "#model1.summary()"
   ]
  },
  {
   "cell_type": "code",
   "execution_count": 12,
   "id": "7013e3b0-35bc-4be8-88de-892ddb5af9f8",
   "metadata": {},
   "outputs": [
    {
     "name": "stdout",
     "output_type": "stream",
     "text": [
      "\u001b[1m875/875\u001b[0m \u001b[32m━━━━━━━━━━━━━━━━━━━━\u001b[0m\u001b[37m\u001b[0m \u001b[1m11s\u001b[0m 13ms/step\n"
     ]
    }
   ],
   "source": [
    "## predict for the test data\n",
    "preds = model1.predict(im_arr_test)"
   ]
  },
  {
   "cell_type": "code",
   "execution_count": 13,
   "id": "8b907a53-7a19-4ddb-a4b4-87a915243c80",
   "metadata": {},
   "outputs": [],
   "source": [
    "## add test predictions to the test dataframe\n",
    "#print(preds.shape)\n",
    "#print(len(np.argmax(preds, axis = 1)))\n",
    "#print(len(np.arange(1, len(df_test.index)+1)))\n",
    "#print(df_test.columns)\n",
    "\n",
    "df_test[\"Label\"] = np.argmax(preds, axis = 1)\n",
    "df_test[\"ImageId\"] = np.arange(1, len(df_test.index)+1)"
   ]
  },
  {
   "cell_type": "code",
   "execution_count": 14,
   "id": "69560835-cbaf-4312-a673-3a9bb2ea9a25",
   "metadata": {},
   "outputs": [],
   "source": [
    "## path of the test predictions\n",
    "#test_pred_path = \"../data/digit-recognizer/test_preds14.csv\"\n",
    "\n",
    "## write results to csv file\n",
    "#to_write = [\"ImageId\", \"Label\"]\n",
    "#df_test.to_csv(test_pred_path, columns = to_write, index = False)"
   ]
  },
  {
   "cell_type": "code",
   "execution_count": 15,
   "id": "83867aeb-48b5-4915-9c4a-0056cd5fe627",
   "metadata": {},
   "outputs": [
    {
     "data": {
      "text/plain": [
       "<matplotlib.colorbar.Colorbar at 0x158bda620>"
      ]
     },
     "execution_count": 15,
     "metadata": {},
     "output_type": "execute_result"
    },
    {
     "data": {
      "image/png": "[encoded data removed]",
      "text/plain": [
       "<Figure size 640x480 with 2 Axes>"
      ]
     },
     "metadata": {},
     "output_type": "display_data"
    }
   ],
   "source": [
    "## plot an image\n",
    "plt.imshow(im_arr[1])\n",
    "plt.colorbar()"
   ]
  },
  {
   "cell_type": "code",
   "execution_count": 16,
   "id": "60d1bdd4-02ca-45ee-8217-a8a3c57bde9b",
   "metadata": {},
   "outputs": [
    {
     "data": {
      "text/plain": [
       "<matplotlib.colorbar.Colorbar at 0x158e22bf0>"
      ]
     },
     "execution_count": 16,
     "metadata": {},
     "output_type": "execute_result"
    },
    {
     "data": {
      "image/png": "[encoded data removed]",
      "text/plain": [
       "<Figure size 640x480 with 2 Axes>"
      ]
     },
     "metadata": {},
     "output_type": "display_data"
    }
   ],
   "source": [
    "## check rotated image\n",
    "rot_im = rotate(im_arr[1], angle = 12., reshape = False)\n",
    "rot_im[rot_im < 0.] = 0.\n",
    "rot_im[rot_im > 1.] = 1.\n",
    "plt.imshow(rot_im)\n",
    "plt.colorbar()"
   ]
  },
  {
   "cell_type": "code",
   "execution_count": 17,
   "id": "746c1cf7-76c4-4229-8dda-736654ea2a3b",
   "metadata": {
    "tags": []
   },
   "outputs": [
    {
     "data": {
      "text/plain": [
       "<matplotlib.colorbar.Colorbar at 0x158f350f0>"
      ]
     },
     "execution_count": 17,
     "metadata": {},
     "output_type": "execute_result"
    },
    {
     "data": {
      "image/png": "[encoded data removed]",
      "text/plain": [
       "<Figure size 640x480 with 2 Axes>"
      ]
     },
     "metadata": {},
     "output_type": "display_data"
    }
   ],
   "source": [
    "filt_im = gaussian_filter(im_arr[1], sigma = (1.1, 1.1, 1.))\n",
    "plt.imshow(filt_im)\n",
    "plt.colorbar()"
   ]
  },
  {
   "cell_type": "code",
   "execution_count": null,
   "id": "6852c593-46dc-444f-8086-a12b57fa0c05",
   "metadata": {},
   "outputs": [],
   "source": []
  }
 ],
 "metadata": {
  "kernelspec": {
   "display_name": "Python 3 (ipykernel)",
   "language": "python",
   "name": "python3"
  },
  "language_info": {
   "codemirror_mode": {
    "name": "ipython",
    "version": 3
   },
   "file_extension": ".py",
   "mimetype": "text/x-python",
   "name": "python",
   "nbconvert_exporter": "python",
   "pygments_lexer": "ipython3",
   "version": "3.10.12"
  }
 },
 "nbformat": 4,
 "nbformat_minor": 5
}
