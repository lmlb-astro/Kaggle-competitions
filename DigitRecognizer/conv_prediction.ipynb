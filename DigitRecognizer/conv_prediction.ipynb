{
 "cells": [
  {
   "cell_type": "code",
   "execution_count": 1,
   "id": "b327b499-b6ab-4e9b-85ff-2e494fefef89",
   "metadata": {},
   "outputs": [],
   "source": [
    "import numpy as np\n",
    "import pandas as pd\n",
    "\n",
    "import conv_model as conv\n",
    "import batch_hist as hist\n",
    "import tensorflow as tf"
   ]
  },
  {
   "cell_type": "code",
   "execution_count": 2,
   "id": "38c6b893-bbd9-4845-be3e-62d3d121258b",
   "metadata": {},
   "outputs": [],
   "source": [
    "#### User input ####\n",
    "\n",
    "## path of the train and test data\n",
    "train_data = \"../data/digit-recognizer/train.csv\"\n",
    "test_data = \"../data/digit-recognizer/test.csv\""
   ]
  },
  {
   "cell_type": "code",
   "execution_count": 3,
   "id": "1c584910-2380-4008-9f04-fd522f666555",
   "metadata": {},
   "outputs": [
    {
     "name": "stdout",
     "output_type": "stream",
     "text": [
      "<class 'pandas.core.frame.DataFrame'>\n",
      "RangeIndex: 42000 entries, 0 to 41999\n",
      "Columns: 785 entries, label to pixel783\n",
      "dtypes: int64(785)\n",
      "memory usage: 251.5 MB\n",
      "<class 'pandas.core.frame.DataFrame'>\n",
      "RangeIndex: 28000 entries, 0 to 27999\n",
      "Columns: 784 entries, pixel0 to pixel783\n",
      "dtypes: int64(784)\n",
      "memory usage: 167.5 MB\n"
     ]
    }
   ],
   "source": [
    "## read data into Dataframe\n",
    "df_train = pd.read_csv(train_data)\n",
    "df_train.info()\n",
    "\n",
    "df_test = pd.read_csv(test_data)\n",
    "df_test.info()"
   ]
  },
  {
   "cell_type": "code",
   "execution_count": 4,
   "id": "1eb2bd87-207b-457a-a5f3-698dc4fe38e6",
   "metadata": {},
   "outputs": [],
   "source": [
    "## get the first 400 rows of the data\n",
    "#df_train = df_train.iloc[:400]\n",
    "#print(len(df_train.columns))"
   ]
  },
  {
   "cell_type": "code",
   "execution_count": 5,
   "id": "0188eb2f-c4ae-43ce-a7e8-a33eaeb8c6c6",
   "metadata": {},
   "outputs": [],
   "source": [
    "## function to create input images\n",
    "def create_input_images(df, start = 1):\n",
    "    im_arr = []\n",
    "    for row in range(0, len(df.index)):\n",
    "        ## get the image values\n",
    "        im_flat = np.array(df.iloc[row, start:])\n",
    "        \n",
    "        ## create the image frame\n",
    "        image = np.reshape(im_flat, (28, 28, 1))\n",
    "    \n",
    "        im_arr.append(image)\n",
    "\n",
    "    return np.array(im_arr, dtype = np.float32)"
   ]
  },
  {
   "cell_type": "code",
   "execution_count": 6,
   "id": "162a4759-33c0-4f96-a3b2-0d924357b5f2",
   "metadata": {},
   "outputs": [],
   "source": [
    "## create the arrays of input images\n",
    "im_arr = create_input_images(df_train)\n",
    "im_arr_test = create_input_images(df_test, start = 0)"
   ]
  },
  {
   "cell_type": "code",
   "execution_count": 7,
   "id": "77c8cdb8-f57c-405e-bc6c-4261fb93233d",
   "metadata": {},
   "outputs": [],
   "source": [
    "from tensorflow.keras.losses import CategoricalCrossentropy\n",
    "\n",
    "#### User input ####\n",
    "learn_rate = 2.0e-3"
   ]
  },
  {
   "cell_type": "code",
   "execution_count": 8,
   "id": "82309d09-e29e-4174-b3a8-f98dbb700308",
   "metadata": {},
   "outputs": [],
   "source": [
    "## create the model: simple convolutional layers\n",
    "#model1 = conv.ConvModel(conv_layer = 'Conv2D', drop_rate = 0.25, kernel_size = (3, 3), filters = [48, 32])\n",
    "\n",
    "## create the model: residual model layers\n",
    "model1 = conv.ResModel(drop_rate = 0.25, kernel_size = (3, 3), filters = [16, 16])#, filters = [48, 32])\n",
    "\n",
    "##instantiate the batch callbacks\n",
    "batch_history = hist.BatchHistory()"
   ]
  },
  {
   "cell_type": "code",
   "execution_count": 9,
   "id": "7fc70bd8-afd1-452a-ae65-5863a91185c9",
   "metadata": {},
   "outputs": [],
   "source": [
    "## compile the model\n",
    "Adam_opt = tf.keras.optimizers.Adam(learning_rate = learn_rate)\n",
    "model1.compile(optimizer = Adam_opt, loss = CategoricalCrossentropy(), metrics = ['accuracy'])"
   ]
  },
  {
   "cell_type": "code",
   "execution_count": 10,
   "id": "59fa845c-0623-4384-a19d-595cde0fd54f",
   "metadata": {},
   "outputs": [
    {
     "data": {
      "text/plain": [
       "(42000, 28, 28, 1)"
      ]
     },
     "execution_count": 10,
     "metadata": {},
     "output_type": "execute_result"
    }
   ],
   "source": [
    "## create training input and one_hot encode\n",
    "Y = df_train[\"label\"].to_numpy()\n",
    "Y_oh = tf.one_hot(Y, 10)\n",
    "im_arr.shape"
   ]
  },
  {
   "cell_type": "code",
   "execution_count": 11,
   "id": "126246c6-0b1f-48ca-9ee7-b83a02279b81",
   "metadata": {},
   "outputs": [
    {
     "name": "stdout",
     "output_type": "stream",
     "text": [
      "Epoch 1/10\n"
     ]
    },
    {
     "name": "stderr",
     "output_type": "stream",
     "text": [
      "2024-04-17 17:56:31.106829: W tensorflow/tsl/platform/profile_utils/cpu_utils.cc:128] Failed to get CPU frequency: 0 Hz\n"
     ]
    },
    {
     "name": "stdout",
     "output_type": "stream",
     "text": [
      "657/657 [==============================] - 15s 23ms/step - loss: 0.2868 - accuracy: 0.9190\n",
      "Epoch 2/10\n",
      "657/657 [==============================] - 15s 23ms/step - loss: 0.0826 - accuracy: 0.9738\n",
      "Epoch 3/10\n",
      "657/657 [==============================] - 16s 24ms/step - loss: 0.0642 - accuracy: 0.9805\n",
      "Epoch 4/10\n",
      "657/657 [==============================] - 15s 23ms/step - loss: 0.0565 - accuracy: 0.9826\n",
      "Epoch 5/10\n",
      "657/657 [==============================] - 15s 23ms/step - loss: 0.0497 - accuracy: 0.9853\n",
      "Epoch 6/10\n",
      "657/657 [==============================] - 16s 25ms/step - loss: 0.0427 - accuracy: 0.9869\n",
      "Epoch 7/10\n",
      "657/657 [==============================] - 15s 23ms/step - loss: 0.0445 - accuracy: 0.9864\n",
      "Epoch 8/10\n",
      "657/657 [==============================] - 15s 23ms/step - loss: 0.0362 - accuracy: 0.9880\n",
      "Epoch 9/10\n",
      "657/657 [==============================] - 15s 24ms/step - loss: 0.0354 - accuracy: 0.9889\n",
      "Epoch 10/10\n",
      "657/657 [==============================] - 16s 24ms/step - loss: 0.0318 - accuracy: 0.9897\n"
     ]
    },
    {
     "data": {
      "text/plain": [
       "<keras.callbacks.History at 0x1798248b0>"
      ]
     },
     "execution_count": 11,
     "metadata": {},
     "output_type": "execute_result"
    }
   ],
   "source": [
    "## fit the model (currently just testing the design, no final run yet)\n",
    "model1.fit(im_arr, Y_oh, batch_size = 64, epochs = 10, callbacks = [batch_history])"
   ]
  },
  {
   "cell_type": "code",
   "execution_count": 12,
   "id": "47268004-9ff9-45b4-aae8-8c7484e3676d",
   "metadata": {},
   "outputs": [
    {
     "data": {
      "image/png": "[encoded data removed]",
      "text/plain": [
       "<Figure size 640x480 with 1 Axes>"
      ]
     },
     "metadata": {},
     "output_type": "display_data"
    }
   ],
   "source": [
    "## plot the accuracy evolution during training\n",
    "import matplotlib.pyplot as plt\n",
    "plt.plot(batch_history.accuracies)\n",
    "plt.title('model accuracy')\n",
    "\n",
    "plt.xscale('log')\n",
    "plt.yscale('log')\n",
    "\n",
    "plt.ylabel('accuracy')\n",
    "plt.xlabel('batch')\n",
    "\n",
    "plt.show()"
   ]
  },
  {
   "cell_type": "code",
   "execution_count": 13,
   "id": "684478bd-7579-4c98-a087-7c10cb233f63",
   "metadata": {},
   "outputs": [],
   "source": [
    "## print the model summary\n",
    "#model1.summary()"
   ]
  },
  {
   "cell_type": "code",
   "execution_count": 14,
   "id": "7013e3b0-35bc-4be8-88de-892ddb5af9f8",
   "metadata": {},
   "outputs": [
    {
     "name": "stdout",
     "output_type": "stream",
     "text": [
      "875/875 [==============================] - 4s 5ms/step\n"
     ]
    }
   ],
   "source": [
    "## predict for the test data\n",
    "preds = model1.predict(im_arr_test)"
   ]
  },
  {
   "cell_type": "code",
   "execution_count": 15,
   "id": "8b907a53-7a19-4ddb-a4b4-87a915243c80",
   "metadata": {},
   "outputs": [],
   "source": [
    "## add test predictions to the test dataframe\n",
    "#print(preds.shape)\n",
    "#print(len(np.argmax(preds, axis = 1)))\n",
    "#print(len(np.arange(1, len(df_test.index)+1)))\n",
    "#print(df_test.columns)\n",
    "\n",
    "df_test[\"Label\"] = np.argmax(preds, axis = 1)\n",
    "df_test[\"ImageId\"] = np.arange(1, len(df_test.index)+1)"
   ]
  },
  {
   "cell_type": "code",
   "execution_count": 17,
   "id": "69560835-cbaf-4312-a673-3a9bb2ea9a25",
   "metadata": {},
   "outputs": [],
   "source": [
    "## path of the test predictions\n",
    "#test_pred_path = \"../data/digit-recognizer/test_preds12.csv\"\n",
    "\n",
    "## write results to csv file\n",
    "#to_write = [\"ImageId\", \"Label\"]\n",
    "#df_test.to_csv(test_pred_path, columns = to_write, index = False)"
   ]
  },
  {
   "cell_type": "code",
   "execution_count": null,
   "id": "6852c593-46dc-444f-8086-a12b57fa0c05",
   "metadata": {},
   "outputs": [],
   "source": []
  }
 ],
 "metadata": {
  "kernelspec": {
   "display_name": "Python 3 (ipykernel)",
   "language": "python",
   "name": "python3"
  },
  "language_info": {
   "codemirror_mode": {
    "name": "ipython",
    "version": 3
   },
   "file_extension": ".py",
   "mimetype": "text/x-python",
   "name": "python",
   "nbconvert_exporter": "python",
   "pygments_lexer": "ipython3",
   "version": "3.10.14"
  }
 },
 "nbformat": 4,
 "nbformat_minor": 5
}
