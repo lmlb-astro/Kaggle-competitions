{
 "cells": [
  {
   "cell_type": "markdown",
   "id": "62a9dd1b-4027-4301-8473-8f0750c6dce7",
   "metadata": {},
   "source": [
    "# Notebook to predict survival of passengers\n",
    "\n",
    "First model: try Pclass & sex to predict (they have no missing values)"
   ]
  },
  {
   "cell_type": "code",
   "execution_count": 1,
   "id": "9f433433-52dd-46cd-8841-aad661eb4387",
   "metadata": {},
   "outputs": [],
   "source": [
    "import numpy as np\n",
    "import pandas as pd"
   ]
  },
  {
   "cell_type": "code",
   "execution_count": null,
   "id": "9627416e-b83b-4ab3-9eb1-4a03fc8e7dd2",
   "metadata": {},
   "outputs": [],
   "source": [
    "import tensorflow as tf\n",
    "from sklearn.naive_bayes import BernoulliNB"
   ]
  },
  {
   "cell_type": "code",
   "execution_count": 14,
   "id": "23cfe5fa-f53d-49bf-b94f-f102e6346f0d",
   "metadata": {},
   "outputs": [],
   "source": [
    "#### User input ####\n",
    "train_data = \"../data/titanic/train.csv\"\n",
    "\n",
    "## the columns used for training\n",
    "cols_read = ['PassengerId','Survived', 'Pclass', 'Sex', 'Age']\n",
    "\n",
    "## schema for the training dataset\n",
    "train_schema = {'PassengerId': np.int16,\n",
    "               'Survived': np.int16,\n",
    "               'Pclass': np.int16,\n",
    "               'Sex': str,\n",
    "               'Age': np.float64}"
   ]
  },
  {
   "cell_type": "code",
   "execution_count": 15,
   "id": "b61d9257-5638-45c9-99b1-057e865e5ffd",
   "metadata": {},
   "outputs": [
    {
     "name": "stdout",
     "output_type": "stream",
     "text": [
      "<class 'pandas.core.frame.DataFrame'>\n",
      "RangeIndex: 891 entries, 0 to 890\n",
      "Data columns (total 5 columns):\n",
      " #   Column       Non-Null Count  Dtype  \n",
      "---  ------       --------------  -----  \n",
      " 0   PassengerId  891 non-null    int16  \n",
      " 1   Survived     891 non-null    int16  \n",
      " 2   Pclass       891 non-null    int16  \n",
      " 3   Sex          891 non-null    object \n",
      " 4   Age          714 non-null    float64\n",
      "dtypes: float64(1), int16(3), object(1)\n",
      "memory usage: 19.3+ KB\n"
     ]
    }
   ],
   "source": [
    "## read data into Dataframe\n",
    "df_train = pd.read_csv(train_data, usecols = cols_read, dtype = train_schema)\n",
    "df_train.info()"
   ]
  },
  {
   "cell_type": "code",
   "execution_count": 13,
   "id": "ab3d4dba-2f4f-449c-b539-65e7eae145b2",
   "metadata": {},
   "outputs": [
    {
     "name": "stdout",
     "output_type": "stream",
     "text": [
      "Pclass\n",
      "1    0.629630\n",
      "2    0.472826\n",
      "3    0.242363\n",
      "Name: Survived, dtype: float64\n",
      "Sex\n",
      "female    0.742038\n",
      "male      0.188908\n",
      "Name: Survived, dtype: float64\n"
     ]
    }
   ],
   "source": [
    "## survival rates as a function of category\n",
    "\n",
    "## by Pclass\n",
    "pcl_df_count = df_train.groupby(\"Pclass\")[\"Survived\"].count()\n",
    "pcl_df_sum = df_train.groupby(\"Pclass\")[\"Survived\"].sum()\n",
    "print(pcl_df_sum/pcl_df_count)\n",
    "\n",
    "## by sex \n",
    "sex_df_count = df_train.groupby(\"Sex\")[\"Survived\"].count()\n",
    "sex_df_sum = df_train.groupby(\"Sex\")[\"Survived\"].sum()\n",
    "print(sex_df_sum/sex_df_count)"
   ]
  },
  {
   "cell_type": "markdown",
   "id": "cd941151-cc32-4143-955e-b93f482807dc",
   "metadata": {},
   "source": [
    "### Conclusions\n",
    "Both the sex and social class are important parameters to predict whether someone survives"
   ]
  },
  {
   "cell_type": "code",
   "execution_count": 17,
   "id": "c9f2272b-b692-4d24-95dc-f6cd6401bffe",
   "metadata": {},
   "outputs": [
    {
     "name": "stdout",
     "output_type": "stream",
     "text": [
      "0      0\n",
      "1      1\n",
      "2      1\n",
      "3      1\n",
      "4      0\n",
      "      ..\n",
      "886    0\n",
      "887    1\n",
      "888    0\n",
      "889    1\n",
      "890    0\n",
      "Name: Survived, Length: 891, dtype: int16\n"
     ]
    }
   ],
   "source": [
    "## create simple model (Naive bayes)\n",
    "X = np.array(df_train[\"Pclass\"], df_train[\"Sex\"]) ## STILL NEED TO CONVERT SEX TO NUMERAL\n",
    "Y = np.array(df_train[\"Survived\"])\n",
    "print(Y)"
   ]
  },
  {
   "cell_type": "code",
   "execution_count": null,
   "id": "d66044a3-54c7-499b-af56-eef1e707cebb",
   "metadata": {},
   "outputs": [],
   "source": []
  }
 ],
 "metadata": {
  "kernelspec": {
   "display_name": "Python 3 (ipykernel)",
   "language": "python",
   "name": "python3"
  },
  "language_info": {
   "codemirror_mode": {
    "name": "ipython",
    "version": 3
   },
   "file_extension": ".py",
   "mimetype": "text/x-python",
   "name": "python",
   "nbconvert_exporter": "python",
   "pygments_lexer": "ipython3",
   "version": "3.10.14"
  }
 },
 "nbformat": 4,
 "nbformat_minor": 5
}
