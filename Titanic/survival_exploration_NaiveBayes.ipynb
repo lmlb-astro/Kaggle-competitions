{
 "cells": [
  {
   "cell_type": "markdown",
   "id": "62a9dd1b-4027-4301-8473-8f0750c6dce7",
   "metadata": {},
   "source": [
    "# Notebook to predict survival of passengers\n",
    "\n",
    "First model: try Pclass & sex to predict (they have no missing values)\n",
    "Then include embarkment: check how sklearn handles missing values"
   ]
  },
  {
   "cell_type": "code",
   "execution_count": 1,
   "id": "9f433433-52dd-46cd-8841-aad661eb4387",
   "metadata": {},
   "outputs": [],
   "source": [
    "import numpy as np\n",
    "import pandas as pd\n",
    "import matplotlib.pyplot as plt\n",
    "\n",
    "import survival_funcs as fcs"
   ]
  },
  {
   "cell_type": "code",
   "execution_count": 2,
   "id": "9627416e-b83b-4ab3-9eb1-4a03fc8e7dd2",
   "metadata": {},
   "outputs": [],
   "source": [
    "from sklearn.naive_bayes import CategoricalNB "
   ]
  },
  {
   "cell_type": "code",
   "execution_count": 3,
   "id": "23cfe5fa-f53d-49bf-b94f-f102e6346f0d",
   "metadata": {},
   "outputs": [],
   "source": [
    "#### User input ####\n",
    "train_data = \"../data/titanic/train.csv\"\n",
    "\n",
    "## the columns used for training\n",
    "## (SibSp: number of siblings/spouses on board)\n",
    "## (Parch: number of parents on board)\n",
    "cols_read = ['PassengerId','Survived', 'Pclass', 'Sex', 'Age','Embarked',\n",
    "             'SibSp', 'Parch', 'Fare', 'Cabin', 'Ticket']\n",
    "\n",
    "## schema for the training dataset\n",
    "train_schema = {'PassengerId': np.int16,\n",
    "               'Survived': np.int16,\n",
    "               'Pclass': np.int16,\n",
    "               'Sex': str,\n",
    "               'Age': np.float64,\n",
    "               'Embarked': str}\n",
    "\n",
    "## hash maps to convert enum values to numerals\n",
    "sex_dict = {\"female\": 1,\n",
    "           \"male\": 2}\n",
    "\n",
    "emb_dict = {\"S\": 1,\n",
    "           \"Q\": 2,\n",
    "           \"C\": 3}"
   ]
  },
  {
   "cell_type": "code",
   "execution_count": 4,
   "id": "b61d9257-5638-45c9-99b1-057e865e5ffd",
   "metadata": {},
   "outputs": [
    {
     "name": "stdout",
     "output_type": "stream",
     "text": [
      "<class 'pandas.core.frame.DataFrame'>\n",
      "RangeIndex: 891 entries, 0 to 890\n",
      "Data columns (total 11 columns):\n",
      " #   Column       Non-Null Count  Dtype  \n",
      "---  ------       --------------  -----  \n",
      " 0   PassengerId  891 non-null    int16  \n",
      " 1   Survived     891 non-null    int16  \n",
      " 2   Pclass       891 non-null    int16  \n",
      " 3   Sex          891 non-null    object \n",
      " 4   Age          714 non-null    float64\n",
      " 5   SibSp        891 non-null    int64  \n",
      " 6   Parch        891 non-null    int64  \n",
      " 7   Ticket       891 non-null    object \n",
      " 8   Fare         891 non-null    float64\n",
      " 9   Cabin        204 non-null    object \n",
      " 10  Embarked     889 non-null    object \n",
      "dtypes: float64(2), int16(3), int64(2), object(4)\n",
      "memory usage: 61.0+ KB\n"
     ]
    }
   ],
   "source": [
    "## read data into Dataframe\n",
    "df_train = pd.read_csv(train_data, usecols = cols_read, dtype = train_schema)\n",
    "df_train.info()"
   ]
  },
  {
   "cell_type": "code",
   "execution_count": 5,
   "id": "296809bf-32e9-458d-9901-cd521f961b38",
   "metadata": {},
   "outputs": [],
   "source": [
    "## create numeral values for the enumerated classes\n",
    "df_train = fcs.trans_cols(df_train, \"Sex\", \"Sex_num\", sex_dict)\n",
    "df_train = fcs.trans_cols(df_train, \"Embarked\", \"Embarked_num\", emb_dict)\n",
    "\n",
    "## inspect the training data\n",
    "#df_train.head(10)"
   ]
  },
  {
   "cell_type": "markdown",
   "id": "6827dc4e-4624-458b-bd08-5c29fe20b33f",
   "metadata": {},
   "source": [
    "## Exploration of the categorical data"
   ]
  },
  {
   "cell_type": "code",
   "execution_count": 6,
   "id": "38c9c1cd-c52c-4a1d-adf1-4bef2ff9ee43",
   "metadata": {},
   "outputs": [
    {
     "data": {
      "text/html": [
       "<div>\n",
       "<style scoped>\n",
       "    .dataframe tbody tr th:only-of-type {\n",
       "        vertical-align: middle;\n",
       "    }\n",
       "\n",
       "    .dataframe tbody tr th {\n",
       "        vertical-align: top;\n",
       "    }\n",
       "\n",
       "    .dataframe thead th {\n",
       "        text-align: right;\n",
       "    }\n",
       "</style>\n",
       "<table border=\"1\" class=\"dataframe\">\n",
       "  <thead>\n",
       "    <tr style=\"text-align: right;\">\n",
       "      <th></th>\n",
       "      <th>survival rate</th>\n",
       "      <th>people in group</th>\n",
       "    </tr>\n",
       "    <tr>\n",
       "      <th>Pclass</th>\n",
       "      <th></th>\n",
       "      <th></th>\n",
       "    </tr>\n",
       "  </thead>\n",
       "  <tbody>\n",
       "    <tr>\n",
       "      <th>1</th>\n",
       "      <td>0.629630</td>\n",
       "      <td>216</td>\n",
       "    </tr>\n",
       "    <tr>\n",
       "      <th>2</th>\n",
       "      <td>0.472826</td>\n",
       "      <td>184</td>\n",
       "    </tr>\n",
       "    <tr>\n",
       "      <th>3</th>\n",
       "      <td>0.242363</td>\n",
       "      <td>491</td>\n",
       "    </tr>\n",
       "  </tbody>\n",
       "</table>\n",
       "</div>"
      ],
      "text/plain": [
       "        survival rate  people in group\n",
       "Pclass                                \n",
       "1            0.629630              216\n",
       "2            0.472826              184\n",
       "3            0.242363              491"
      ]
     },
     "execution_count": 6,
     "metadata": {},
     "output_type": "execute_result"
    }
   ],
   "source": [
    "## survival rate by number of Pclass\n",
    "fcs.get_group_probabilities(df_train, \"Pclass\")"
   ]
  },
  {
   "cell_type": "code",
   "execution_count": 7,
   "id": "cce0e94a-49fd-4fa2-b4d2-e99a3d2201ce",
   "metadata": {},
   "outputs": [
    {
     "data": {
      "text/html": [
       "<div>\n",
       "<style scoped>\n",
       "    .dataframe tbody tr th:only-of-type {\n",
       "        vertical-align: middle;\n",
       "    }\n",
       "\n",
       "    .dataframe tbody tr th {\n",
       "        vertical-align: top;\n",
       "    }\n",
       "\n",
       "    .dataframe thead th {\n",
       "        text-align: right;\n",
       "    }\n",
       "</style>\n",
       "<table border=\"1\" class=\"dataframe\">\n",
       "  <thead>\n",
       "    <tr style=\"text-align: right;\">\n",
       "      <th></th>\n",
       "      <th>survival rate</th>\n",
       "      <th>people in group</th>\n",
       "    </tr>\n",
       "    <tr>\n",
       "      <th>Sex</th>\n",
       "      <th></th>\n",
       "      <th></th>\n",
       "    </tr>\n",
       "  </thead>\n",
       "  <tbody>\n",
       "    <tr>\n",
       "      <th>female</th>\n",
       "      <td>0.742038</td>\n",
       "      <td>314</td>\n",
       "    </tr>\n",
       "    <tr>\n",
       "      <th>male</th>\n",
       "      <td>0.188908</td>\n",
       "      <td>577</td>\n",
       "    </tr>\n",
       "  </tbody>\n",
       "</table>\n",
       "</div>"
      ],
      "text/plain": [
       "        survival rate  people in group\n",
       "Sex                                   \n",
       "female       0.742038              314\n",
       "male         0.188908              577"
      ]
     },
     "execution_count": 7,
     "metadata": {},
     "output_type": "execute_result"
    }
   ],
   "source": [
    "## survival rate by number of Sex\n",
    "fcs.get_group_probabilities(df_train, \"Sex\")"
   ]
  },
  {
   "cell_type": "code",
   "execution_count": 8,
   "id": "849beaa4-0774-4abd-8166-0457a3cbade8",
   "metadata": {},
   "outputs": [
    {
     "data": {
      "text/html": [
       "<div>\n",
       "<style scoped>\n",
       "    .dataframe tbody tr th:only-of-type {\n",
       "        vertical-align: middle;\n",
       "    }\n",
       "\n",
       "    .dataframe tbody tr th {\n",
       "        vertical-align: top;\n",
       "    }\n",
       "\n",
       "    .dataframe thead th {\n",
       "        text-align: right;\n",
       "    }\n",
       "</style>\n",
       "<table border=\"1\" class=\"dataframe\">\n",
       "  <thead>\n",
       "    <tr style=\"text-align: right;\">\n",
       "      <th></th>\n",
       "      <th>survival rate</th>\n",
       "      <th>people in group</th>\n",
       "    </tr>\n",
       "    <tr>\n",
       "      <th>Embarked</th>\n",
       "      <th></th>\n",
       "      <th></th>\n",
       "    </tr>\n",
       "  </thead>\n",
       "  <tbody>\n",
       "    <tr>\n",
       "      <th>C</th>\n",
       "      <td>0.553571</td>\n",
       "      <td>168</td>\n",
       "    </tr>\n",
       "    <tr>\n",
       "      <th>Q</th>\n",
       "      <td>0.389610</td>\n",
       "      <td>77</td>\n",
       "    </tr>\n",
       "    <tr>\n",
       "      <th>S</th>\n",
       "      <td>0.336957</td>\n",
       "      <td>644</td>\n",
       "    </tr>\n",
       "  </tbody>\n",
       "</table>\n",
       "</div>"
      ],
      "text/plain": [
       "          survival rate  people in group\n",
       "Embarked                                \n",
       "C              0.553571              168\n",
       "Q              0.389610               77\n",
       "S              0.336957              644"
      ]
     },
     "execution_count": 8,
     "metadata": {},
     "output_type": "execute_result"
    }
   ],
   "source": [
    "## survival rate by number of location of embarkment\n",
    "fcs.get_group_probabilities(df_train, \"Embarked\")"
   ]
  },
  {
   "cell_type": "code",
   "execution_count": 9,
   "id": "ab3d4dba-2f4f-449c-b539-65e7eae145b2",
   "metadata": {},
   "outputs": [
    {
     "data": {
      "text/html": [
       "<div>\n",
       "<style scoped>\n",
       "    .dataframe tbody tr th:only-of-type {\n",
       "        vertical-align: middle;\n",
       "    }\n",
       "\n",
       "    .dataframe tbody tr th {\n",
       "        vertical-align: top;\n",
       "    }\n",
       "\n",
       "    .dataframe thead th {\n",
       "        text-align: right;\n",
       "    }\n",
       "</style>\n",
       "<table border=\"1\" class=\"dataframe\">\n",
       "  <thead>\n",
       "    <tr style=\"text-align: right;\">\n",
       "      <th></th>\n",
       "      <th>survival rate</th>\n",
       "      <th>people in group</th>\n",
       "    </tr>\n",
       "    <tr>\n",
       "      <th>SibSp</th>\n",
       "      <th></th>\n",
       "      <th></th>\n",
       "    </tr>\n",
       "  </thead>\n",
       "  <tbody>\n",
       "    <tr>\n",
       "      <th>0</th>\n",
       "      <td>0.345395</td>\n",
       "      <td>608</td>\n",
       "    </tr>\n",
       "    <tr>\n",
       "      <th>1</th>\n",
       "      <td>0.535885</td>\n",
       "      <td>209</td>\n",
       "    </tr>\n",
       "    <tr>\n",
       "      <th>2</th>\n",
       "      <td>0.464286</td>\n",
       "      <td>28</td>\n",
       "    </tr>\n",
       "    <tr>\n",
       "      <th>3</th>\n",
       "      <td>0.250000</td>\n",
       "      <td>16</td>\n",
       "    </tr>\n",
       "    <tr>\n",
       "      <th>4</th>\n",
       "      <td>0.166667</td>\n",
       "      <td>18</td>\n",
       "    </tr>\n",
       "    <tr>\n",
       "      <th>5</th>\n",
       "      <td>0.000000</td>\n",
       "      <td>5</td>\n",
       "    </tr>\n",
       "    <tr>\n",
       "      <th>8</th>\n",
       "      <td>0.000000</td>\n",
       "      <td>7</td>\n",
       "    </tr>\n",
       "  </tbody>\n",
       "</table>\n",
       "</div>"
      ],
      "text/plain": [
       "       survival rate  people in group\n",
       "SibSp                                \n",
       "0           0.345395              608\n",
       "1           0.535885              209\n",
       "2           0.464286               28\n",
       "3           0.250000               16\n",
       "4           0.166667               18\n",
       "5           0.000000                5\n",
       "8           0.000000                7"
      ]
     },
     "execution_count": 9,
     "metadata": {},
     "output_type": "execute_result"
    }
   ],
   "source": [
    "## survival rate by number of siblings \n",
    "fcs.get_group_probabilities(df_train, \"SibSp\")"
   ]
  },
  {
   "cell_type": "code",
   "execution_count": 10,
   "id": "dc3b7f1f-2b29-4bfe-8cc7-911fc557aac6",
   "metadata": {},
   "outputs": [
    {
     "data": {
      "text/html": [
       "<div>\n",
       "<style scoped>\n",
       "    .dataframe tbody tr th:only-of-type {\n",
       "        vertical-align: middle;\n",
       "    }\n",
       "\n",
       "    .dataframe tbody tr th {\n",
       "        vertical-align: top;\n",
       "    }\n",
       "\n",
       "    .dataframe thead th {\n",
       "        text-align: right;\n",
       "    }\n",
       "</style>\n",
       "<table border=\"1\" class=\"dataframe\">\n",
       "  <thead>\n",
       "    <tr style=\"text-align: right;\">\n",
       "      <th></th>\n",
       "      <th>survival rate</th>\n",
       "      <th>people in group</th>\n",
       "    </tr>\n",
       "    <tr>\n",
       "      <th>Parch</th>\n",
       "      <th></th>\n",
       "      <th></th>\n",
       "    </tr>\n",
       "  </thead>\n",
       "  <tbody>\n",
       "    <tr>\n",
       "      <th>0</th>\n",
       "      <td>0.343658</td>\n",
       "      <td>678</td>\n",
       "    </tr>\n",
       "    <tr>\n",
       "      <th>1</th>\n",
       "      <td>0.550847</td>\n",
       "      <td>118</td>\n",
       "    </tr>\n",
       "    <tr>\n",
       "      <th>2</th>\n",
       "      <td>0.500000</td>\n",
       "      <td>80</td>\n",
       "    </tr>\n",
       "    <tr>\n",
       "      <th>3</th>\n",
       "      <td>0.600000</td>\n",
       "      <td>5</td>\n",
       "    </tr>\n",
       "    <tr>\n",
       "      <th>4</th>\n",
       "      <td>0.000000</td>\n",
       "      <td>4</td>\n",
       "    </tr>\n",
       "    <tr>\n",
       "      <th>5</th>\n",
       "      <td>0.200000</td>\n",
       "      <td>5</td>\n",
       "    </tr>\n",
       "    <tr>\n",
       "      <th>6</th>\n",
       "      <td>0.000000</td>\n",
       "      <td>1</td>\n",
       "    </tr>\n",
       "  </tbody>\n",
       "</table>\n",
       "</div>"
      ],
      "text/plain": [
       "       survival rate  people in group\n",
       "Parch                                \n",
       "0           0.343658              678\n",
       "1           0.550847              118\n",
       "2           0.500000               80\n",
       "3           0.600000                5\n",
       "4           0.000000                4\n",
       "5           0.200000                5\n",
       "6           0.000000                1"
      ]
     },
     "execution_count": 10,
     "metadata": {},
     "output_type": "execute_result"
    }
   ],
   "source": [
    "## survival rate by number of parents/children on board \n",
    "fcs.get_group_probabilities(df_train, \"Parch\")"
   ]
  },
  {
   "cell_type": "markdown",
   "id": "cd941151-cc32-4143-955e-b93f482807dc",
   "metadata": {},
   "source": [
    "### Conclusions\n",
    "Both the sex and social class are important parameters to predict whether someone survives. \n",
    "Also embarkment seems to play a role survival rate."
   ]
  },
  {
   "cell_type": "markdown",
   "id": "63b490ff-d0e0-41f5-860a-c88ef781bfb8",
   "metadata": {},
   "source": [
    "## Exploration of the continuous data"
   ]
  },
  {
   "cell_type": "markdown",
   "id": "916bc633-b2c8-4cb7-84e1-ab0c1e28be37",
   "metadata": {},
   "source": [
    "## Naive Bayes categorical"
   ]
  },
  {
   "cell_type": "code",
   "execution_count": 11,
   "id": "930025fb-89cd-411e-8432-6b1a5aa9144c",
   "metadata": {},
   "outputs": [
    {
     "data": {
      "image/png": "[encoded data removed]",
      "text/plain": [
       "<Figure size 640x480 with 1 Axes>"
      ]
     },
     "metadata": {},
     "output_type": "display_data"
    }
   ],
   "source": [
    "## distribution of the ticket prices\n",
    "#plt.hist(np.log10(df_train[\"Fare\"] + 0.01)) ## +0.01 to avoid zeros\n",
    "plt.hist(df_train[\"Fare\"])\n",
    "\n",
    "plt.xlabel(\"log$_{10}$[Fare]\")\n",
    "plt.ylabel(\"count\")\n",
    "plt.show()"
   ]
  },
  {
   "cell_type": "code",
   "execution_count": 12,
   "id": "b0088e32-954a-47a4-838d-3840e45381a9",
   "metadata": {},
   "outputs": [
    {
     "data": {
      "image/png": "[encoded data removed]",
      "text/plain": [
       "<Figure size 640x480 with 1 Axes>"
      ]
     },
     "metadata": {},
     "output_type": "display_data"
    }
   ],
   "source": [
    "## distribution of the ages\n",
    "plt.hist(df_train[\"Age\"])\n",
    "\n",
    "plt.xlabel(\"Age (yr)\")\n",
    "plt.ylabel(\"count\")\n",
    "plt.show()"
   ]
  },
  {
   "cell_type": "code",
   "execution_count": 13,
   "id": "cb90139b-84ee-4b97-ba1f-0c2f0a7351d7",
   "metadata": {},
   "outputs": [
    {
     "data": {
      "text/html": [
       "<div>\n",
       "<style scoped>\n",
       "    .dataframe tbody tr th:only-of-type {\n",
       "        vertical-align: middle;\n",
       "    }\n",
       "\n",
       "    .dataframe tbody tr th {\n",
       "        vertical-align: top;\n",
       "    }\n",
       "\n",
       "    .dataframe thead th {\n",
       "        text-align: right;\n",
       "    }\n",
       "</style>\n",
       "<table border=\"1\" class=\"dataframe\">\n",
       "  <thead>\n",
       "    <tr style=\"text-align: right;\">\n",
       "      <th></th>\n",
       "      <th>survival rate</th>\n",
       "      <th>people in group</th>\n",
       "    </tr>\n",
       "    <tr>\n",
       "      <th>Decade</th>\n",
       "      <th></th>\n",
       "      <th></th>\n",
       "    </tr>\n",
       "  </thead>\n",
       "  <tbody>\n",
       "    <tr>\n",
       "      <th>0.0</th>\n",
       "      <td>0.704545</td>\n",
       "      <td>44</td>\n",
       "    </tr>\n",
       "    <tr>\n",
       "      <th>1.0</th>\n",
       "      <td>0.411765</td>\n",
       "      <td>34</td>\n",
       "    </tr>\n",
       "    <tr>\n",
       "      <th>2.0</th>\n",
       "      <td>0.354260</td>\n",
       "      <td>223</td>\n",
       "    </tr>\n",
       "    <tr>\n",
       "      <th>3.0</th>\n",
       "      <td>0.404494</td>\n",
       "      <td>178</td>\n",
       "    </tr>\n",
       "    <tr>\n",
       "      <th>4.0</th>\n",
       "      <td>0.424242</td>\n",
       "      <td>132</td>\n",
       "    </tr>\n",
       "    <tr>\n",
       "      <th>5.0</th>\n",
       "      <td>0.409836</td>\n",
       "      <td>61</td>\n",
       "    </tr>\n",
       "    <tr>\n",
       "      <th>6.0</th>\n",
       "      <td>0.352941</td>\n",
       "      <td>34</td>\n",
       "    </tr>\n",
       "    <tr>\n",
       "      <th>7.0</th>\n",
       "      <td>0.000000</td>\n",
       "      <td>7</td>\n",
       "    </tr>\n",
       "    <tr>\n",
       "      <th>8.0</th>\n",
       "      <td>1.000000</td>\n",
       "      <td>1</td>\n",
       "    </tr>\n",
       "  </tbody>\n",
       "</table>\n",
       "</div>"
      ],
      "text/plain": [
       "        survival rate  people in group\n",
       "Decade                                \n",
       "0.0          0.704545               44\n",
       "1.0          0.411765               34\n",
       "2.0          0.354260              223\n",
       "3.0          0.404494              178\n",
       "4.0          0.424242              132\n",
       "5.0          0.409836               61\n",
       "6.0          0.352941               34\n",
       "7.0          0.000000                7\n",
       "8.0          1.000000                1"
      ]
     },
     "execution_count": 13,
     "metadata": {},
     "output_type": "execute_result"
    }
   ],
   "source": [
    "## inspect survival probability as a function of age group\n",
    "df_train[\"Decade\"] = round(df_train[\"Age\"]/10.)\n",
    "fcs.get_group_probabilities(df_train, \"Decade\")"
   ]
  },
  {
   "cell_type": "code",
   "execution_count": 14,
   "id": "4e199933-538b-4c5f-ac37-9864030ef910",
   "metadata": {},
   "outputs": [
    {
     "data": {
      "text/html": [
       "<div>\n",
       "<style scoped>\n",
       "    .dataframe tbody tr th:only-of-type {\n",
       "        vertical-align: middle;\n",
       "    }\n",
       "\n",
       "    .dataframe tbody tr th {\n",
       "        vertical-align: top;\n",
       "    }\n",
       "\n",
       "    .dataframe thead th {\n",
       "        text-align: right;\n",
       "    }\n",
       "</style>\n",
       "<table border=\"1\" class=\"dataframe\">\n",
       "  <thead>\n",
       "    <tr style=\"text-align: right;\">\n",
       "      <th></th>\n",
       "      <th>survival rate</th>\n",
       "      <th>people in group</th>\n",
       "    </tr>\n",
       "    <tr>\n",
       "      <th>Price_group</th>\n",
       "      <th></th>\n",
       "      <th></th>\n",
       "    </tr>\n",
       "  </thead>\n",
       "  <tbody>\n",
       "    <tr>\n",
       "      <th>0.0</th>\n",
       "      <td>0.058824</td>\n",
       "      <td>17</td>\n",
       "    </tr>\n",
       "    <tr>\n",
       "      <th>1.0</th>\n",
       "      <td>0.256818</td>\n",
       "      <td>440</td>\n",
       "    </tr>\n",
       "    <tr>\n",
       "      <th>2.0</th>\n",
       "      <td>0.460000</td>\n",
       "      <td>100</td>\n",
       "    </tr>\n",
       "    <tr>\n",
       "      <th>3.0</th>\n",
       "      <td>0.437037</td>\n",
       "      <td>135</td>\n",
       "    </tr>\n",
       "    <tr>\n",
       "      <th>4.0</th>\n",
       "      <td>0.428571</td>\n",
       "      <td>28</td>\n",
       "    </tr>\n",
       "    <tr>\n",
       "      <th>5.0</th>\n",
       "      <td>0.433333</td>\n",
       "      <td>30</td>\n",
       "    </tr>\n",
       "    <tr>\n",
       "      <th>6.0</th>\n",
       "      <td>0.760000</td>\n",
       "      <td>25</td>\n",
       "    </tr>\n",
       "    <tr>\n",
       "      <th>7.0</th>\n",
       "      <td>0.263158</td>\n",
       "      <td>19</td>\n",
       "    </tr>\n",
       "    <tr>\n",
       "      <th>8.0</th>\n",
       "      <td>0.741935</td>\n",
       "      <td>31</td>\n",
       "    </tr>\n",
       "    <tr>\n",
       "      <th>9.0</th>\n",
       "      <td>0.923077</td>\n",
       "      <td>13</td>\n",
       "    </tr>\n",
       "    <tr>\n",
       "      <th>11.0</th>\n",
       "      <td>0.636364</td>\n",
       "      <td>11</td>\n",
       "    </tr>\n",
       "    <tr>\n",
       "      <th>12.0</th>\n",
       "      <td>1.000000</td>\n",
       "      <td>4</td>\n",
       "    </tr>\n",
       "    <tr>\n",
       "      <th>13.0</th>\n",
       "      <td>1.000000</td>\n",
       "      <td>4</td>\n",
       "    </tr>\n",
       "    <tr>\n",
       "      <th>14.0</th>\n",
       "      <td>0.666667</td>\n",
       "      <td>3</td>\n",
       "    </tr>\n",
       "    <tr>\n",
       "      <th>15.0</th>\n",
       "      <td>0.666667</td>\n",
       "      <td>9</td>\n",
       "    </tr>\n",
       "    <tr>\n",
       "      <th>16.0</th>\n",
       "      <td>1.000000</td>\n",
       "      <td>2</td>\n",
       "    </tr>\n",
       "    <tr>\n",
       "      <th>21.0</th>\n",
       "      <td>0.750000</td>\n",
       "      <td>4</td>\n",
       "    </tr>\n",
       "    <tr>\n",
       "      <th>22.0</th>\n",
       "      <td>0.000000</td>\n",
       "      <td>1</td>\n",
       "    </tr>\n",
       "    <tr>\n",
       "      <th>23.0</th>\n",
       "      <td>0.750000</td>\n",
       "      <td>4</td>\n",
       "    </tr>\n",
       "    <tr>\n",
       "      <th>25.0</th>\n",
       "      <td>0.500000</td>\n",
       "      <td>2</td>\n",
       "    </tr>\n",
       "    <tr>\n",
       "      <th>26.0</th>\n",
       "      <td>0.666667</td>\n",
       "      <td>6</td>\n",
       "    </tr>\n",
       "    <tr>\n",
       "      <th>51.0</th>\n",
       "      <td>1.000000</td>\n",
       "      <td>3</td>\n",
       "    </tr>\n",
       "  </tbody>\n",
       "</table>\n",
       "</div>"
      ],
      "text/plain": [
       "             survival rate  people in group\n",
       "Price_group                                \n",
       "0.0               0.058824               17\n",
       "1.0               0.256818              440\n",
       "2.0               0.460000              100\n",
       "3.0               0.437037              135\n",
       "4.0               0.428571               28\n",
       "5.0               0.433333               30\n",
       "6.0               0.760000               25\n",
       "7.0               0.263158               19\n",
       "8.0               0.741935               31\n",
       "9.0               0.923077               13\n",
       "11.0              0.636364               11\n",
       "12.0              1.000000                4\n",
       "13.0              1.000000                4\n",
       "14.0              0.666667                3\n",
       "15.0              0.666667                9\n",
       "16.0              1.000000                2\n",
       "21.0              0.750000                4\n",
       "22.0              0.000000                1\n",
       "23.0              0.750000                4\n",
       "25.0              0.500000                2\n",
       "26.0              0.666667                6\n",
       "51.0              1.000000                3"
      ]
     },
     "execution_count": 14,
     "metadata": {},
     "output_type": "execute_result"
    }
   ],
   "source": [
    "## inspect survival probability as a function of age group\n",
    "df_train[\"Price_group\"] = round(df_train[\"Fare\"]/10.)\n",
    "fcs.get_group_probabilities(df_train, \"Price_group\")"
   ]
  },
  {
   "cell_type": "markdown",
   "id": "228d8710-575d-4b9a-846d-756b8326cfae",
   "metadata": {},
   "source": [
    "## conclusions for normalization\n",
    "Age, fare: either /10 or use log10 when working with a model"
   ]
  },
  {
   "cell_type": "code",
   "execution_count": 15,
   "id": "acc2bfde-6521-4539-b261-bdb1b5cb9c37",
   "metadata": {},
   "outputs": [
    {
     "name": "stderr",
     "output_type": "stream",
     "text": [
      "/var/folders/pb/xs3f5mtd5bq7lmrql1dj8p040000gn/T/ipykernel_3433/247947827.py:2: FutureWarning: A value is trying to be set on a copy of a DataFrame or Series through chained assignment using an inplace method.\n",
      "The behavior will change in pandas 3.0. This inplace method will never work because the intermediate object on which we are setting values always behaves as a copy.\n",
      "\n",
      "For example, when doing 'df[col].method(value, inplace=True)', try using 'df.method({col: value}, inplace=True)' or df[col] = df[col].method(value) instead, to perform the operation inplace on the original object.\n",
      "\n",
      "\n",
      "  df_train[\"Embarked_num\"].fillna(0, inplace=True)\n"
     ]
    }
   ],
   "source": [
    "## remove nans for \"Embarked_num\" and \"Decade\"\n",
    "df_train[\"Embarked_num\"].fillna(0, inplace=True)\n",
    "df_train[\"Decade\"].fillna(0, inplace=True)"
   ]
  },
  {
   "cell_type": "markdown",
   "id": "a12bd93f-729d-4f3a-887e-6e2b88c4b9db",
   "metadata": {},
   "source": [
    "### Using categories with no missing values"
   ]
  },
  {
   "cell_type": "code",
   "execution_count": 16,
   "id": "e61d660b-f268-4830-b3db-ae6ab152477e",
   "metadata": {},
   "outputs": [],
   "source": [
    "## create categorical Bayes object\n",
    "clf1 = CategoricalNB()"
   ]
  },
  {
   "cell_type": "code",
   "execution_count": 17,
   "id": "c9f2272b-b692-4d24-95dc-f6cd6401bffe",
   "metadata": {},
   "outputs": [],
   "source": [
    "## create input data\n",
    "X1 = fcs.get_features(df_train, [\"Pclass\", \"Sex_num\", \"SibSp\", \"Parch\"])\n",
    "Y1 = np.array(df_train[\"Survived\"])\n",
    "\n",
    "## create model 1 and predict the results\n",
    "model1 = clf1.fit(X1, Y1)\n",
    "results1 = model1.predict(X1)"
   ]
  },
  {
   "cell_type": "code",
   "execution_count": 18,
   "id": "38ceaec8-8aa5-4623-ade7-f13b78c220a5",
   "metadata": {},
   "outputs": [
    {
     "name": "stdout",
     "output_type": "stream",
     "text": [
      "0.7946127946127945\n"
     ]
    }
   ],
   "source": [
    "## print the accuracy\n",
    "error_rate1 = np.sum(np.abs(Y1-results1))/len(results1)\n",
    "print(1. - error_rate1)"
   ]
  },
  {
   "cell_type": "markdown",
   "id": "d22bed3c-e973-4afc-becb-33dc35e3baba",
   "metadata": {},
   "source": [
    "### Also including categories with missing values"
   ]
  },
  {
   "cell_type": "code",
   "execution_count": 19,
   "id": "2906053a-5355-4df6-8309-011176741419",
   "metadata": {},
   "outputs": [],
   "source": [
    "## create categorical Bayes object\n",
    "clf2 = CategoricalNB()"
   ]
  },
  {
   "cell_type": "code",
   "execution_count": 20,
   "id": "baa9a6e6-2b9b-49b5-9c27-8fd9cacaf008",
   "metadata": {},
   "outputs": [],
   "source": [
    "## create input data\n",
    "X2 = fcs.get_features(df_train, [\"Pclass\", \"Sex_num\", \"Embarked_num\", \"SibSp\", \"Parch\"])\n",
    "\n",
    "## create model 1 and predict the results\n",
    "model2 = clf2.fit(X2, Y1)\n",
    "results2 = model2.predict(X2)"
   ]
  },
  {
   "cell_type": "code",
   "execution_count": 21,
   "id": "561c514f-561c-4b15-b653-ffb751603f22",
   "metadata": {},
   "outputs": [
    {
     "name": "stdout",
     "output_type": "stream",
     "text": [
      "0.7946127946127945\n"
     ]
    }
   ],
   "source": [
    "## print the accuracy\n",
    "error_rate2 = np.sum(np.abs(Y1-results2))/len(results2)\n",
    "print(1. - error_rate2)"
   ]
  },
  {
   "cell_type": "markdown",
   "id": "def41a6d-e096-4e1e-8cb9-69cdfc23ba75",
   "metadata": {},
   "source": [
    "## Include Fare and Age categories "
   ]
  },
  {
   "cell_type": "code",
   "execution_count": 22,
   "id": "1eafa64e-dbc5-4dd1-9ae7-d0f76a0ead31",
   "metadata": {},
   "outputs": [],
   "source": [
    "## create categorical Bayes object\n",
    "clf3 = CategoricalNB()\n",
    "\n",
    "## create input data\n",
    "X3 = fcs.get_features(df_train, [\"Pclass\", \"Sex_num\", \"Embarked_num\", \"SibSp\", \"Parch\", \"Price_group\", \"Decade\"])\n",
    "\n",
    "## create model 1 and predict the results\n",
    "model3 = clf2.fit(X3, Y1)\n",
    "results3 = model3.predict(X3)"
   ]
  },
  {
   "cell_type": "code",
   "execution_count": 23,
   "id": "a4a4e6ab-725b-423f-abb4-9756148dccf5",
   "metadata": {},
   "outputs": [
    {
     "name": "stdout",
     "output_type": "stream",
     "text": [
      "0.7755331088664422\n"
     ]
    }
   ],
   "source": [
    "## print the accuracy\n",
    "error_rate3 = np.sum(np.abs(Y1-results3))/len(results3)\n",
    "print(1. - error_rate3)"
   ]
  }
 ],
 "metadata": {
  "kernelspec": {
   "display_name": "Python 3 (ipykernel)",
   "language": "python",
   "name": "python3"
  },
  "language_info": {
   "codemirror_mode": {
    "name": "ipython",
    "version": 3
   },
   "file_extension": ".py",
   "mimetype": "text/x-python",
   "name": "python",
   "nbconvert_exporter": "python",
   "pygments_lexer": "ipython3",
   "version": "3.10.14"
  }
 },
 "nbformat": 4,
 "nbformat_minor": 5
}
