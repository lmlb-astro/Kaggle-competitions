{
 "cells": [
  {
   "cell_type": "markdown",
   "id": "62a9dd1b-4027-4301-8473-8f0750c6dce7",
   "metadata": {},
   "source": [
    "# Notebook to predict survival of passengers\n",
    "\n",
    "First model: try Pclass & sex to predict (they have no missing values)\n",
    "Then include embarkment: check how sklearn handles missing values"
   ]
  },
  {
   "cell_type": "code",
   "execution_count": 1,
   "id": "9f433433-52dd-46cd-8841-aad661eb4387",
   "metadata": {},
   "outputs": [],
   "source": [
    "import numpy as np\n",
    "import pandas as pd\n",
    "\n",
    "import survival_funcs as fcs"
   ]
  },
  {
   "cell_type": "code",
   "execution_count": 2,
   "id": "9627416e-b83b-4ab3-9eb1-4a03fc8e7dd2",
   "metadata": {},
   "outputs": [],
   "source": [
    "from sklearn.naive_bayes import CategoricalNB "
   ]
  },
  {
   "cell_type": "code",
   "execution_count": 3,
   "id": "23cfe5fa-f53d-49bf-b94f-f102e6346f0d",
   "metadata": {},
   "outputs": [],
   "source": [
    "#### User input ####\n",
    "train_data = \"../data/titanic/train.csv\"\n",
    "\n",
    "## the columns used for training\n",
    "cols_read = ['PassengerId','Survived', 'Pclass', 'Sex', 'Age','Embarked']\n",
    "\n",
    "## schema for the training dataset\n",
    "train_schema = {'PassengerId': np.int16,\n",
    "               'Survived': np.int16,\n",
    "               'Pclass': np.int16,\n",
    "               'Sex': str,\n",
    "               'Age': np.float64,\n",
    "               'Embarked': str}\n",
    "\n",
    "## hash maps to convert enum values to numerals\n",
    "sex_dict = {\"female\": 1,\n",
    "           \"male\": 2}\n",
    "\n",
    "emb_dict = {\"S\": 1,\n",
    "           \"Q\": 2,\n",
    "           \"C\": 3}"
   ]
  },
  {
   "cell_type": "code",
   "execution_count": 4,
   "id": "b61d9257-5638-45c9-99b1-057e865e5ffd",
   "metadata": {},
   "outputs": [
    {
     "name": "stdout",
     "output_type": "stream",
     "text": [
      "<class 'pandas.core.frame.DataFrame'>\n",
      "RangeIndex: 891 entries, 0 to 890\n",
      "Data columns (total 6 columns):\n",
      " #   Column       Non-Null Count  Dtype  \n",
      "---  ------       --------------  -----  \n",
      " 0   PassengerId  891 non-null    int16  \n",
      " 1   Survived     891 non-null    int16  \n",
      " 2   Pclass       891 non-null    int16  \n",
      " 3   Sex          891 non-null    object \n",
      " 4   Age          714 non-null    float64\n",
      " 5   Embarked     889 non-null    object \n",
      "dtypes: float64(1), int16(3), object(2)\n",
      "memory usage: 26.2+ KB\n"
     ]
    }
   ],
   "source": [
    "## read data into Dataframe\n",
    "df_train = pd.read_csv(train_data, usecols = cols_read, dtype = train_schema)\n",
    "df_train.info()"
   ]
  },
  {
   "cell_type": "code",
   "execution_count": 5,
   "id": "296809bf-32e9-458d-9901-cd521f961b38",
   "metadata": {},
   "outputs": [
    {
     "name": "stdout",
     "output_type": "stream",
     "text": [
      "<class 'pandas.core.frame.DataFrame'>\n",
      "RangeIndex: 891 entries, 0 to 890\n",
      "Data columns (total 8 columns):\n",
      " #   Column        Non-Null Count  Dtype  \n",
      "---  ------        --------------  -----  \n",
      " 0   PassengerId   891 non-null    int16  \n",
      " 1   Survived      891 non-null    int16  \n",
      " 2   Pclass        891 non-null    int16  \n",
      " 3   Sex           891 non-null    object \n",
      " 4   Age           714 non-null    float64\n",
      " 5   Embarked      889 non-null    object \n",
      " 6   Sex_num       891 non-null    float64\n",
      " 7   Embarked_num  891 non-null    float64\n",
      "dtypes: float64(3), int16(3), object(2)\n",
      "memory usage: 40.2+ KB\n"
     ]
    },
    {
     "name": "stderr",
     "output_type": "stream",
     "text": [
      "/var/folders/pb/xs3f5mtd5bq7lmrql1dj8p040000gn/T/ipykernel_2143/2359416694.py:4: FutureWarning: A value is trying to be set on a copy of a DataFrame or Series through chained assignment using an inplace method.\n",
      "The behavior will change in pandas 3.0. This inplace method will never work because the intermediate object on which we are setting values always behaves as a copy.\n",
      "\n",
      "For example, when doing 'df[col].method(value, inplace=True)', try using 'df.method({col: value}, inplace=True)' or df[col] = df[col].method(value) instead, to perform the operation inplace on the original object.\n",
      "\n",
      "\n",
      "  df_train[\"Embarked_num\"].fillna(0, inplace=True)\n"
     ]
    },
    {
     "data": {
      "text/html": [
       "<div>\n",
       "<style scoped>\n",
       "    .dataframe tbody tr th:only-of-type {\n",
       "        vertical-align: middle;\n",
       "    }\n",
       "\n",
       "    .dataframe tbody tr th {\n",
       "        vertical-align: top;\n",
       "    }\n",
       "\n",
       "    .dataframe thead th {\n",
       "        text-align: right;\n",
       "    }\n",
       "</style>\n",
       "<table border=\"1\" class=\"dataframe\">\n",
       "  <thead>\n",
       "    <tr style=\"text-align: right;\">\n",
       "      <th></th>\n",
       "      <th>PassengerId</th>\n",
       "      <th>Survived</th>\n",
       "      <th>Pclass</th>\n",
       "      <th>Sex</th>\n",
       "      <th>Age</th>\n",
       "      <th>Embarked</th>\n",
       "      <th>Sex_num</th>\n",
       "      <th>Embarked_num</th>\n",
       "    </tr>\n",
       "  </thead>\n",
       "  <tbody>\n",
       "    <tr>\n",
       "      <th>0</th>\n",
       "      <td>1</td>\n",
       "      <td>0</td>\n",
       "      <td>3</td>\n",
       "      <td>male</td>\n",
       "      <td>22.0</td>\n",
       "      <td>S</td>\n",
       "      <td>2.0</td>\n",
       "      <td>1.0</td>\n",
       "    </tr>\n",
       "    <tr>\n",
       "      <th>1</th>\n",
       "      <td>2</td>\n",
       "      <td>1</td>\n",
       "      <td>1</td>\n",
       "      <td>female</td>\n",
       "      <td>38.0</td>\n",
       "      <td>C</td>\n",
       "      <td>1.0</td>\n",
       "      <td>3.0</td>\n",
       "    </tr>\n",
       "    <tr>\n",
       "      <th>2</th>\n",
       "      <td>3</td>\n",
       "      <td>1</td>\n",
       "      <td>3</td>\n",
       "      <td>female</td>\n",
       "      <td>26.0</td>\n",
       "      <td>S</td>\n",
       "      <td>1.0</td>\n",
       "      <td>1.0</td>\n",
       "    </tr>\n",
       "    <tr>\n",
       "      <th>3</th>\n",
       "      <td>4</td>\n",
       "      <td>1</td>\n",
       "      <td>1</td>\n",
       "      <td>female</td>\n",
       "      <td>35.0</td>\n",
       "      <td>S</td>\n",
       "      <td>1.0</td>\n",
       "      <td>1.0</td>\n",
       "    </tr>\n",
       "    <tr>\n",
       "      <th>4</th>\n",
       "      <td>5</td>\n",
       "      <td>0</td>\n",
       "      <td>3</td>\n",
       "      <td>male</td>\n",
       "      <td>35.0</td>\n",
       "      <td>S</td>\n",
       "      <td>2.0</td>\n",
       "      <td>1.0</td>\n",
       "    </tr>\n",
       "    <tr>\n",
       "      <th>5</th>\n",
       "      <td>6</td>\n",
       "      <td>0</td>\n",
       "      <td>3</td>\n",
       "      <td>male</td>\n",
       "      <td>NaN</td>\n",
       "      <td>Q</td>\n",
       "      <td>2.0</td>\n",
       "      <td>2.0</td>\n",
       "    </tr>\n",
       "    <tr>\n",
       "      <th>6</th>\n",
       "      <td>7</td>\n",
       "      <td>0</td>\n",
       "      <td>1</td>\n",
       "      <td>male</td>\n",
       "      <td>54.0</td>\n",
       "      <td>S</td>\n",
       "      <td>2.0</td>\n",
       "      <td>1.0</td>\n",
       "    </tr>\n",
       "    <tr>\n",
       "      <th>7</th>\n",
       "      <td>8</td>\n",
       "      <td>0</td>\n",
       "      <td>3</td>\n",
       "      <td>male</td>\n",
       "      <td>2.0</td>\n",
       "      <td>S</td>\n",
       "      <td>2.0</td>\n",
       "      <td>1.0</td>\n",
       "    </tr>\n",
       "    <tr>\n",
       "      <th>8</th>\n",
       "      <td>9</td>\n",
       "      <td>1</td>\n",
       "      <td>3</td>\n",
       "      <td>female</td>\n",
       "      <td>27.0</td>\n",
       "      <td>S</td>\n",
       "      <td>1.0</td>\n",
       "      <td>1.0</td>\n",
       "    </tr>\n",
       "    <tr>\n",
       "      <th>9</th>\n",
       "      <td>10</td>\n",
       "      <td>1</td>\n",
       "      <td>2</td>\n",
       "      <td>female</td>\n",
       "      <td>14.0</td>\n",
       "      <td>C</td>\n",
       "      <td>1.0</td>\n",
       "      <td>3.0</td>\n",
       "    </tr>\n",
       "  </tbody>\n",
       "</table>\n",
       "</div>"
      ],
      "text/plain": [
       "   PassengerId  Survived  Pclass     Sex   Age Embarked  Sex_num  Embarked_num\n",
       "0            1         0       3    male  22.0        S      2.0           1.0\n",
       "1            2         1       1  female  38.0        C      1.0           3.0\n",
       "2            3         1       3  female  26.0        S      1.0           1.0\n",
       "3            4         1       1  female  35.0        S      1.0           1.0\n",
       "4            5         0       3    male  35.0        S      2.0           1.0\n",
       "5            6         0       3    male   NaN        Q      2.0           2.0\n",
       "6            7         0       1    male  54.0        S      2.0           1.0\n",
       "7            8         0       3    male   2.0        S      2.0           1.0\n",
       "8            9         1       3  female  27.0        S      1.0           1.0\n",
       "9           10         1       2  female  14.0        C      1.0           3.0"
      ]
     },
     "execution_count": 5,
     "metadata": {},
     "output_type": "execute_result"
    }
   ],
   "source": [
    "## create numeral values for the enumerated classes\n",
    "df_train = fcs.trans_cols(df_train, \"Sex\", \"Sex_num\", sex_dict)\n",
    "df_train = fcs.trans_cols(df_train, \"Embarked\", \"Embarked_num\", emb_dict)\n",
    "df_train[\"Embarked_num\"].fillna(0, inplace=True)\n",
    "df_train.info()\n",
    "df_train.head(10)"
   ]
  },
  {
   "cell_type": "code",
   "execution_count": 6,
   "id": "ab3d4dba-2f4f-449c-b539-65e7eae145b2",
   "metadata": {},
   "outputs": [
    {
     "name": "stdout",
     "output_type": "stream",
     "text": [
      "Pclass\n",
      "1    0.629630\n",
      "2    0.472826\n",
      "3    0.242363\n",
      "Name: Survived, dtype: float64\n",
      "Sex\n",
      "female    0.742038\n",
      "male      0.188908\n",
      "Name: Survived, dtype: float64\n",
      "Embarked\n",
      "C    0.553571\n",
      "Q    0.389610\n",
      "S    0.336957\n",
      "Name: Survived, dtype: float64\n"
     ]
    }
   ],
   "source": [
    "## survival rates as a function of category\n",
    "\n",
    "## by Pclass\n",
    "pcl_df_count = df_train.groupby(\"Pclass\")[\"Survived\"].count()\n",
    "pcl_df_sum = df_train.groupby(\"Pclass\")[\"Survived\"].sum()\n",
    "print(pcl_df_sum/pcl_df_count)\n",
    "\n",
    "## by sex \n",
    "sex_df_count = df_train.groupby(\"Sex\")[\"Survived\"].count()\n",
    "sex_df_sum = df_train.groupby(\"Sex\")[\"Survived\"].sum()\n",
    "print(sex_df_sum/sex_df_count)\n",
    "\n",
    "## by embarkment \n",
    "emb_df_count = df_train.groupby(\"Embarked\")[\"Survived\"].count()\n",
    "emb_df_sum = df_train.groupby(\"Embarked\")[\"Survived\"].sum()\n",
    "print(emb_df_sum/emb_df_count)"
   ]
  },
  {
   "cell_type": "markdown",
   "id": "cd941151-cc32-4143-955e-b93f482807dc",
   "metadata": {},
   "source": [
    "### Conclusions\n",
    "Both the sex and social class are important parameters to predict whether someone survives. \n",
    "Also embarkment seems to play a role survival rate."
   ]
  },
  {
   "cell_type": "code",
   "execution_count": 7,
   "id": "c9f2272b-b692-4d24-95dc-f6cd6401bffe",
   "metadata": {},
   "outputs": [],
   "source": [
    "## create simple model (Naive bayes)\n",
    "#X = np.array([np.array(df_train[\"Pclass\"]), np.array(df_train[\"Sex_num\"]), np.array(df_train[\"Embarked_num\"])]).T\n",
    "X = fcs.get_features(df_train, [\"Pclass\", \"Sex_num\"])\n",
    "Y = np.array(df_train[\"Survived\"])\n",
    "#print(Y)\n",
    "\n",
    "clf = CategoricalNB()\n",
    "model = clf.fit(X, Y)"
   ]
  },
  {
   "cell_type": "code",
   "execution_count": 8,
   "id": "d66044a3-54c7-499b-af56-eef1e707cebb",
   "metadata": {},
   "outputs": [],
   "source": [
    "results = model.predict(X)\n",
    "#print(results)"
   ]
  },
  {
   "cell_type": "code",
   "execution_count": 9,
   "id": "38ceaec8-8aa5-4623-ade7-f13b78c220a5",
   "metadata": {},
   "outputs": [
    {
     "name": "stdout",
     "output_type": "stream",
     "text": [
      "0.7777777777777778\n"
     ]
    }
   ],
   "source": [
    "error_rate = np.sum(np.abs(Y-results))/len(results)\n",
    "print(1. - error_rate)"
   ]
  },
  {
   "cell_type": "code",
   "execution_count": null,
   "id": "2da603a1-e89d-4f13-a85c-1a2d62536ad1",
   "metadata": {},
   "outputs": [],
   "source": []
  }
 ],
 "metadata": {
  "kernelspec": {
   "display_name": "Python 3 (ipykernel)",
   "language": "python",
   "name": "python3"
  },
  "language_info": {
   "codemirror_mode": {
    "name": "ipython",
    "version": 3
   },
   "file_extension": ".py",
   "mimetype": "text/x-python",
   "name": "python",
   "nbconvert_exporter": "python",
   "pygments_lexer": "ipython3",
   "version": "3.10.14"
  }
 },
 "nbformat": 4,
 "nbformat_minor": 5
}
